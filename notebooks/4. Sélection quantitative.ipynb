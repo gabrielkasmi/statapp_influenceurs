{
 "cells": [
  {
   "cell_type": "markdown",
   "metadata": {},
   "source": [
    "# 4. Shortlist Quantitative"
   ]
  },
  {
   "cell_type": "code",
   "execution_count": 1,
   "metadata": {},
   "outputs": [
    {
     "data": {
      "text/html": [
       "<div id=\"my_id_menu_nb\">run previous cell, wait for 2 seconds</div>\n",
       "<script>\n",
       "function repeat_indent_string(n){\n",
       "    var a = \"\" ;\n",
       "    for ( ; n > 0 ; --n)\n",
       "        a += \"    \";\n",
       "    return a;\n",
       "}\n",
       "// look up into all sections and builds an automated menu //\n",
       "var update_menu_string = function(begin, lfirst, llast, sformat, send, keep_item, begin_format, end_format) {\n",
       "    var anchors = document.getElementsByClassName(\"section\");\n",
       "    if (anchors.length == 0) {\n",
       "        anchors = document.getElementsByClassName(\"text_cell_render rendered_html\");\n",
       "    }\n",
       "    var i,t;\n",
       "    var text_menu = begin;\n",
       "    var text_memo = \"<pre>\\nlength:\" + anchors.length + \"\\n\";\n",
       "    var ind = \"\";\n",
       "    var memo_level = 1;\n",
       "    var href;\n",
       "    var tags = [];\n",
       "    var main_item = 0;\n",
       "    var format_open = 0;\n",
       "    for (i = 0; i <= llast; i++)\n",
       "        tags.push(\"h\" + i);\n",
       "\n",
       "    for (i = 0; i < anchors.length; i++) {\n",
       "        text_memo += \"**\" + anchors[i].id + \"--\\n\";\n",
       "\n",
       "        var child = null;\n",
       "        for(t = 0; t < tags.length; t++) {\n",
       "            var r = anchors[i].getElementsByTagName(tags[t]);\n",
       "            if (r.length > 0) {\n",
       "child = r[0];\n",
       "break;\n",
       "            }\n",
       "        }\n",
       "        if (child == null) {\n",
       "            text_memo += \"null\\n\";\n",
       "            continue;\n",
       "        }\n",
       "        if (anchors[i].hasAttribute(\"id\")) {\n",
       "            // when converted in RST\n",
       "            href = anchors[i].id;\n",
       "            text_memo += \"#1-\" + href;\n",
       "            // passer à child suivant (le chercher)\n",
       "        }\n",
       "        else if (child.hasAttribute(\"id\")) {\n",
       "            // in a notebook\n",
       "            href = child.id;\n",
       "            text_memo += \"#2-\" + href;\n",
       "        }\n",
       "        else {\n",
       "            text_memo += \"#3-\" + \"*\" + \"\\n\";\n",
       "            continue;\n",
       "        }\n",
       "        var title = child.textContent;\n",
       "        var level = parseInt(child.tagName.substring(1,2));\n",
       "\n",
       "        text_memo += \"--\" + level + \"?\" + lfirst + \"--\" + title + \"\\n\";\n",
       "\n",
       "        if ((level < lfirst) || (level > llast)) {\n",
       "            continue ;\n",
       "        }\n",
       "        if (title.endsWith('¶')) {\n",
       "            title = title.substring(0,title.length-1).replace(\"<\", \"&lt;\")\n",
       "         .replace(\">\", \"&gt;\").replace(\"&\", \"&amp;\");\n",
       "        }\n",
       "        if (title.length == 0) {\n",
       "            continue;\n",
       "        }\n",
       "\n",
       "        while (level < memo_level) {\n",
       "            text_menu += end_format + \"</ul>\\n\";\n",
       "            format_open -= 1;\n",
       "            memo_level -= 1;\n",
       "        }\n",
       "        if (level == lfirst) {\n",
       "            main_item += 1;\n",
       "        }\n",
       "        if (keep_item != -1 && main_item != keep_item + 1) {\n",
       "            // alert(main_item + \" - \" + level + \" - \" + keep_item);\n",
       "            continue;\n",
       "        }\n",
       "        while (level > memo_level) {\n",
       "            text_menu += \"<ul>\\n\";\n",
       "            memo_level += 1;\n",
       "        }\n",
       "        text_menu += repeat_indent_string(level-2);\n",
       "        text_menu += begin_format + sformat.replace(\"__HREF__\", href).replace(\"__TITLE__\", title);\n",
       "        format_open += 1;\n",
       "    }\n",
       "    while (1 < memo_level) {\n",
       "        text_menu += end_format + \"</ul>\\n\";\n",
       "        memo_level -= 1;\n",
       "        format_open -= 1;\n",
       "    }\n",
       "    text_menu += send;\n",
       "    //text_menu += \"\\n\" + text_memo;\n",
       "\n",
       "    while (format_open > 0) {\n",
       "        text_menu += end_format;\n",
       "        format_open -= 1;\n",
       "    }\n",
       "    return text_menu;\n",
       "};\n",
       "var update_menu = function() {\n",
       "    var sbegin = \"\";\n",
       "    var sformat = '<a href=\"#__HREF__\">__TITLE__</a>';\n",
       "    var send = \"\";\n",
       "    var begin_format = '<li>';\n",
       "    var end_format = '</li>';\n",
       "    var keep_item = -1;\n",
       "    var text_menu = update_menu_string(sbegin, 2, 4, sformat, send, keep_item,\n",
       "       begin_format, end_format);\n",
       "    var menu = document.getElementById(\"my_id_menu_nb\");\n",
       "    menu.innerHTML=text_menu;\n",
       "};\n",
       "window.setTimeout(update_menu,2000);\n",
       "            </script>"
      ],
      "text/plain": [
       "<IPython.core.display.HTML object>"
      ]
     },
     "execution_count": 1,
     "metadata": {},
     "output_type": "execute_result"
    }
   ],
   "source": [
    "from jyquickhelper import add_notebook_menu\n",
    "add_notebook_menu()"
   ]
  },
  {
   "cell_type": "markdown",
   "metadata": {},
   "source": [
    "Dans cette partie, on sélectionne un certain nombre de comptes intéressants sur la base de critères quantitatifs. On crée un tableau qui contient différentes valeurs pour différents indicateurs et on retient une petite liste d'influenceurs sur la base de ces critères. \n",
    "\n",
    "Plus précisément, on calcule, sur la base des posts les plus récents sur leur page, un indice d'authenticité et un indice d'intéraction. On réinjecte également la centralité de vecteur propre et le PageRank qui nous ont servi à l'étape précédente. "
   ]
  },
  {
   "cell_type": "markdown",
   "metadata": {},
   "source": [
    "## Extraction et préparation des données"
   ]
  },
  {
   "cell_type": "code",
   "execution_count": 2,
   "metadata": {
    "collapsed": true
   },
   "outputs": [],
   "source": [
    "from urllib.request import Request, urlopen\n",
    "from urllib.error import HTTPError\n",
    "import urllib\n",
    "import bs4\n",
    "from urllib import request\n",
    "import pandas as pd\n",
    "import re\n",
    "import time\n",
    "from numpy import arange, repeat, concatenate\n",
    "from vaderSentiment.vaderSentiment import SentimentIntensityAnalyzer #pip install vaderSentiment\n",
    "from collections import defaultdict"
   ]
  },
  {
   "cell_type": "code",
   "execution_count": 3,
   "metadata": {},
   "outputs": [
    {
     "data": {
      "text/plain": [
       "2839"
      ]
     },
     "execution_count": 3,
     "metadata": {},
     "output_type": "execute_result"
    }
   ],
   "source": [
    "# Importer le fichier du notebook précédent (central_points) \n",
    "\n",
    "with open(\"central_points.txt\",'r') as r:\n",
    "    init_file=list(r)\n",
    "    init_file = init_file[0]\n",
    "    users=init_file.split('\\t')\n",
    "    users.remove(users[users.index('')])\n",
    "len(users)"
   ]
  },
  {
   "cell_type": "code",
   "execution_count": 4,
   "metadata": {
    "collapsed": true
   },
   "outputs": [],
   "source": [
    "def scrape_user(username):\n",
    "    output=[]\n",
    "    output.append(username)\n",
    "    #aller sur la page\n",
    "    link = \"https://www.instagram.com/%s/\"%username\n",
    "    request_text = request.urlopen(link).read()\n",
    "    page = bs4.BeautifulSoup(request_text,'html.parser')\n",
    "    scripts=page.findAll(\"script\"\n",
    "                        )\n",
    "    #récupérer le bout de graphql\n",
    "    char=\"graphql\"\n",
    "    to_be_sorted=\"\"\n",
    "    for z in range(len(scripts)):\n",
    "        tryout=str(scripts[z])\n",
    "        if char in tryout:\n",
    "            to_be_sorted=to_be_sorted+tryout\n",
    "    #récupérer le nombre de followers\n",
    "    to_be_sorted_bis = to_be_sorted.replace(\",\", \"\")        \n",
    "    \n",
    "    pos1 = to_be_sorted_bis.find('edge_followed_by\":{\"count\":')\n",
    "    follower = '' \n",
    "    i = 0\n",
    "    while to_be_sorted_bis[pos1+27+i] != '}' and i<1000:\n",
    "        follower = follower + to_be_sorted_bis[pos1+27+i]\n",
    "        i = i+1\n",
    "    output.append(follower)\n",
    "    \n",
    "    #récupérer\n",
    "    \n",
    "    # ce qu'on peut sortir: \n",
    "    ###la biographie :\n",
    "    biography=to_be_sorted[to_be_sorted.find('{\"biography\":\"')+14:to_be_sorted.find(\"blocked_by_viewer\")-3]\n",
    "    output.append(biography)\n",
    "\n",
    "    ###is_business_account / \n",
    "    busi=to_be_sorted[to_be_sorted.find(\"is_business_account\"):to_be_sorted.find(\"is_business_account\")+30]\n",
    "    if 'true' in busi:\n",
    "        business=True\n",
    "    else:\n",
    "        business=False\n",
    "    output.append(business)\n",
    "    \n",
    "    ###business_category_name \n",
    "    business_category=to_be_sorted[to_be_sorted.find(\"business_category_name\")+25:to_be_sorted.find(\"business_email\")-3]\n",
    "    output.append(business_category)\n",
    "\n",
    "    ###is_verified\n",
    "    verif=to_be_sorted[to_be_sorted.find(\"is_verified\"):to_be_sorted.find(\"is_verified\")+30]\n",
    "    if 'true' in verif:\n",
    "        is_verified=True\n",
    "    else:\n",
    "        is_verified=False\n",
    "        \n",
    "    output.append(is_verified)\n",
    "    \n",
    "    return output"
   ]
  },
  {
   "cell_type": "code",
   "execution_count": 5,
   "metadata": {
    "collapsed": true
   },
   "outputs": [],
   "source": [
    "def scrape_posts(username):\n",
    "    \n",
    "    output=[]\n",
    "    \n",
    "    #aller sur la page\n",
    "    link = \"https://www.instagram.com/%s/\"%username\n",
    "    request_text = request.urlopen(link).read()\n",
    "    page = bs4.BeautifulSoup(request_text,'html.parser')\n",
    "    scripts=page.findAll(\"script\")\n",
    "    #récupérer le bout de graphql\n",
    "    char=\"graphql\"\n",
    "    to_be_sorted=\"\"\n",
    "    for z in range(len(scripts)):\n",
    "        tryout=str(scripts[z])\n",
    "        if char in tryout:\n",
    "            to_be_sorted=to_be_sorted+tryout\n",
    "            \n",
    "    #analyse du graphql à proprement parler\n",
    "    to_be_sorted=to_be_sorted[to_be_sorted.find(\"graphql\"):]\n",
    "    #par post\n",
    "    \n",
    "    posts=to_be_sorted.split(\"__typename\")\n",
    "    posts.remove(posts[0])\n",
    "    for i in range(len(posts)):\n",
    "        intermediate=[]\n",
    "        intermediate.append(username)\n",
    "        post_en_cours=posts[i]\n",
    "\n",
    "        #Caption\n",
    "        caption=post_en_cours[post_en_cours.find(\"edge_media_to_caption\")+50:post_en_cours.find(\"shortcode\")-7]\n",
    "        intermediate.append(caption)\n",
    "        \n",
    "        #si le post est une vidéo ou non\n",
    "        video=post_en_cours[post_en_cours.find(\"is_video\"):post_en_cours.find(\"is_video\")+20]\n",
    "        if 'true' in video:\n",
    "            is_video=True\n",
    "        else:\n",
    "            is_video=False\n",
    "        intermediate.append(is_video)\n",
    "        \n",
    "        # commentaires\n",
    "        comments=int(post_en_cours[post_en_cours.find(\"edge_media_to_comment\")+32:post_en_cours.find(\"comments_disabled\")-3])\n",
    "        intermediate.append(comments)\n",
    "        #nombre de likes\n",
    "        likes=int(post_en_cours[post_en_cours.find(\"edge_liked_by\")+24:post_en_cours.find(\"edge_media_preview_like\")-3])\n",
    "        intermediate.append(likes)\n",
    "        # date de l'upload\n",
    "        taken_at=int(post_en_cours[post_en_cours.find(\"taken_at_timestamp\")+20:post_en_cours.find(\"dimensions\")-2])\n",
    "        time2=time.strftime('%Y-%m-%d %H:%M:%S', time.localtime(taken_at))\n",
    "        intermediate.append(time2)\n",
    "        \n",
    "    \n",
    "        output.append(intermediate)\n",
    "        \n",
    "    return output"
   ]
  },
  {
   "cell_type": "code",
   "execution_count": 6,
   "metadata": {
    "collapsed": true
   },
   "outputs": [],
   "source": [
    "# On le fait en plusieurs étapes vu qu'on se fait bannir à chaque fois\n",
    "L=[]"
   ]
  },
  {
   "cell_type": "code",
   "execution_count": 43,
   "metadata": {},
   "outputs": [
    {
     "data": {
      "text/plain": [
       "43"
      ]
     },
     "execution_count": 43,
     "metadata": {},
     "output_type": "execute_result"
    }
   ],
   "source": [
    "users2=users[users.index(L[-1][0])+1:]  #Créer une liste d'utilisateurs pour reprendre où on en était\n",
    "len(users2)"
   ]
  },
  {
   "cell_type": "code",
   "execution_count": 44,
   "metadata": {
    "scrolled": true
   },
   "outputs": [
    {
     "name": "stdout",
     "output_type": "stream",
     "text": [
      "current user : withwoodspoon\n",
      "progress =    44.19 %\n",
      "current user : originesparfums\n",
      "progress =    90.70 %\n"
     ]
    }
   ],
   "source": [
    "i=0\n",
    "#for usr in users:    #A la première itération\n",
    "for usr in users2:   #Aux itérations suivantes - commenter au dessus, décommenter ici\n",
    "    i+=1\n",
    "    if i%20==0:\n",
    "        print('current user :', usr)\n",
    "#        print('progress = %8.2f'% (users.index(usr)/len(users)*100),'%')\n",
    "        print('progress = %8.2f'% (users2.index(usr)/len(users2)*100),'%')\n",
    "    L.append(scrape_user(usr))"
   ]
  },
  {
   "cell_type": "code",
   "execution_count": 42,
   "metadata": {},
   "outputs": [
    {
     "name": "stdout",
     "output_type": "stream",
     "text": [
      "2793\n",
      "***\n"
     ]
    }
   ],
   "source": [
    "print(len(L))   #Doit sommer à len(users), sinon il y a une couille qque part (modulo les 404) \n",
    "print('***')  "
   ]
  },
  {
   "cell_type": "code",
   "execution_count": 45,
   "metadata": {
    "collapsed": true
   },
   "outputs": [],
   "source": [
    "Users = []\n",
    "for i in range(len(L)):\n",
    "    z = L[i][0]\n",
    "    Users.append(z)\n",
    "Users = pd.Series(Users)"
   ]
  },
  {
   "cell_type": "code",
   "execution_count": 46,
   "metadata": {
    "collapsed": true
   },
   "outputs": [],
   "source": [
    "followers = []\n",
    "for i in range(len(L)):\n",
    "    z = L[i][1]\n",
    "    followers.append(z)\n",
    "followers = pd.Series(followers)"
   ]
  },
  {
   "cell_type": "code",
   "execution_count": 47,
   "metadata": {
    "collapsed": true
   },
   "outputs": [],
   "source": [
    "biography = []\n",
    "for i in range(len(L)):\n",
    "    z = L[i][2]\n",
    "    biography.append(z)\n",
    "biography = pd.Series(biography)"
   ]
  },
  {
   "cell_type": "code",
   "execution_count": 48,
   "metadata": {
    "collapsed": true
   },
   "outputs": [],
   "source": [
    "business_account=[]\n",
    "for i in range(len(L)):\n",
    "    z = L[i][3]\n",
    "    business_account.append(z)\n",
    "business_account = pd.Series(business_account)"
   ]
  },
  {
   "cell_type": "code",
   "execution_count": 49,
   "metadata": {
    "collapsed": true
   },
   "outputs": [],
   "source": [
    "has_joined_recently=[]\n",
    "for i in range(len(L)):\n",
    "    z = L[i][4]\n",
    "    has_joined_recently.append(z)\n",
    "has_joined_recently = pd.Series(has_joined_recently)"
   ]
  },
  {
   "cell_type": "code",
   "execution_count": 50,
   "metadata": {
    "collapsed": true
   },
   "outputs": [],
   "source": [
    "is_verified=[]\n",
    "for i in range(len(L)):\n",
    "    z = L[i][5]\n",
    "    is_verified.append(z)\n",
    "is_verified = pd.Series(is_verified)"
   ]
  },
  {
   "cell_type": "code",
   "execution_count": 51,
   "metadata": {
    "collapsed": true
   },
   "outputs": [],
   "source": [
    "df = pd.DataFrame()\n",
    "df['user']=Users.values\n",
    "df['followers']=followers.values\n",
    "df['biography']=biography.values\n",
    "df['business_account']=business_account.values\n",
    "df['has_joined_recently']='Irrelevant'\n",
    "df['is_verified']=is_verified.values"
   ]
  },
  {
   "cell_type": "code",
   "execution_count": 52,
   "metadata": {},
   "outputs": [
    {
     "data": {
      "text/html": [
       "<div>\n",
       "<style scoped>\n",
       "    .dataframe tbody tr th:only-of-type {\n",
       "        vertical-align: middle;\n",
       "    }\n",
       "\n",
       "    .dataframe tbody tr th {\n",
       "        vertical-align: top;\n",
       "    }\n",
       "\n",
       "    .dataframe thead th {\n",
       "        text-align: right;\n",
       "    }\n",
       "</style>\n",
       "<table border=\"1\" class=\"dataframe\">\n",
       "  <thead>\n",
       "    <tr style=\"text-align: right;\">\n",
       "      <th></th>\n",
       "      <th>user</th>\n",
       "      <th>followers</th>\n",
       "      <th>biography</th>\n",
       "      <th>business_account</th>\n",
       "      <th>has_joined_recently</th>\n",
       "      <th>is_verified</th>\n",
       "    </tr>\n",
       "  </thead>\n",
       "  <tbody>\n",
       "    <tr>\n",
       "      <th>0</th>\n",
       "      <td>bestofvanity</td>\n",
       "      <td>9286</td>\n",
       "      <td>\\u2693\\ufe0f Bretonne expatri\\u00e9e \\ud83c\\ud...</td>\n",
       "      <td>True</td>\n",
       "      <td>Irrelevant</td>\n",
       "      <td>False</td>\n",
       "    </tr>\n",
       "    <tr>\n",
       "      <th>1</th>\n",
       "      <td>deedeeparis</td>\n",
       "      <td>68181</td>\n",
       "      <td>\\u2716\\ufe0fParisian journalist \\u0026 lifesty...</td>\n",
       "      <td>True</td>\n",
       "      <td>Irrelevant</td>\n",
       "      <td>False</td>\n",
       "    </tr>\n",
       "    <tr>\n",
       "      <th>2</th>\n",
       "      <td>saeve_france</td>\n",
       "      <td>10464</td>\n",
       "      <td>1\\u00e8re marque de cosm\\u00e9tiques transmett...</td>\n",
       "      <td>True</td>\n",
       "      <td>Irrelevant</td>\n",
       "      <td>False</td>\n",
       "    </tr>\n",
       "    <tr>\n",
       "      <th>3</th>\n",
       "      <td>lilibarbery</td>\n",
       "      <td>40337</td>\n",
       "      <td>Founder of wellness \\u0026 lifestyle blog http...</td>\n",
       "      <td>True</td>\n",
       "      <td>Irrelevant</td>\n",
       "      <td>True</td>\n",
       "    </tr>\n",
       "    <tr>\n",
       "      <th>4</th>\n",
       "      <td>misswofficiel</td>\n",
       "      <td>2808</td>\n",
       "      <td>Marque fran\\u00e7aise de maquillage certifi\\u0...</td>\n",
       "      <td>True</td>\n",
       "      <td>Irrelevant</td>\n",
       "      <td>False</td>\n",
       "    </tr>\n",
       "  </tbody>\n",
       "</table>\n",
       "</div>"
      ],
      "text/plain": [
       "            user followers                                          biography  \\\n",
       "0   bestofvanity      9286  \\u2693\\ufe0f Bretonne expatri\\u00e9e \\ud83c\\ud...   \n",
       "1    deedeeparis     68181  \\u2716\\ufe0fParisian journalist \\u0026 lifesty...   \n",
       "2   saeve_france     10464  1\\u00e8re marque de cosm\\u00e9tiques transmett...   \n",
       "3    lilibarbery     40337  Founder of wellness \\u0026 lifestyle blog http...   \n",
       "4  misswofficiel      2808  Marque fran\\u00e7aise de maquillage certifi\\u0...   \n",
       "\n",
       "   business_account has_joined_recently  is_verified  \n",
       "0              True          Irrelevant        False  \n",
       "1              True          Irrelevant        False  \n",
       "2              True          Irrelevant        False  \n",
       "3              True          Irrelevant         True  \n",
       "4              True          Irrelevant        False  "
      ]
     },
     "execution_count": 52,
     "metadata": {},
     "output_type": "execute_result"
    }
   ],
   "source": [
    "df.to_csv(\"users_dataframe.csv\", index = True, header=True)\n",
    "\n",
    "df.head()"
   ]
  },
  {
   "cell_type": "code",
   "execution_count": 59,
   "metadata": {
    "collapsed": true
   },
   "outputs": [],
   "source": [
    "publications = []  # Idem en plusieurs fois pour contourner les expulsions"
   ]
  },
  {
   "cell_type": "code",
   "execution_count": 153,
   "metadata": {},
   "outputs": [
    {
     "data": {
      "text/plain": [
       "116"
      ]
     },
     "execution_count": 153,
     "metadata": {},
     "output_type": "execute_result"
    }
   ],
   "source": [
    "users2=users[users.index(last_user)+1:]  #Créer une liste d'utilisateurs pour reprendre où on en était\n",
    "len(users2)"
   ]
  },
  {
   "cell_type": "code",
   "execution_count": 154,
   "metadata": {},
   "outputs": [
    {
     "name": "stdout",
     "output_type": "stream",
     "text": [
      "current user : bagheerasoy\n",
      "progress =    16.38 %\n",
      "current user : poiretcactus\n",
      "progress =    33.62 %\n",
      "current user : lifeasbeck\n",
      "progress =    50.86 %\n",
      "current user : cassandralaunay__\n",
      "progress =    68.10 %\n",
      "current user : mixtiles\n",
      "progress =    85.34 %\n"
     ]
    }
   ],
   "source": [
    "i=0\n",
    "\n",
    "#for usr in users:\n",
    "for usr in users2: #aux itérations suivantes\n",
    "    \n",
    "    i+=1\n",
    "    if i%20==0:\n",
    "        print('current user :', usr)\n",
    "#        print('progress = %8.2f'% (users.index(usr)/len(users)*100),'%')\n",
    "        print('progress = %8.2f'% (users2.index(usr)/len(users2)*100),'%')\n",
    "    w = scrape_posts(usr)\n",
    "    for j in range(len(w)):\n",
    "        \n",
    "        publications.append(w[j])\n",
    "    \n",
    "    last_user=usr"
   ]
  },
  {
   "cell_type": "code",
   "execution_count": 155,
   "metadata": {},
   "outputs": [
    {
     "name": "stdout",
     "output_type": "stream",
     "text": [
      "Current start index :  2838 -- for user karinejeff\n",
      "***\n"
     ]
    }
   ],
   "source": [
    "print('Current start index : ',users.index(last_user), '-- for user', last_user)\n",
    "print('***')"
   ]
  },
  {
   "cell_type": "code",
   "execution_count": 156,
   "metadata": {
    "collapsed": true
   },
   "outputs": [],
   "source": [
    "user=[]\n",
    "caption=[]\n",
    "video=[]\n",
    "nb_com=[]\n",
    "nb_likes=[]\n",
    "date=[]\n",
    "for i in range(len(publications)):\n",
    "    for j in range(len(publications[i])):\n",
    "        if j == 0:\n",
    "            user.append(publications[i][j])\n",
    "        if j == 1:\n",
    "            caption.append(publications[i][j])\n",
    "        if j == 2:\n",
    "            video.append(publications[i][j])\n",
    "        if j == 3:\n",
    "            nb_com.append(publications[i][j])\n",
    "        if j == 4:\n",
    "            nb_likes.append(publications[i][j])\n",
    "        if j == 5:\n",
    "            date.append(publications[i][j])\n",
    "user=pd.Series(user)\n",
    "caption=pd.Series(caption)\n",
    "video=pd.Series(video)\n",
    "nb_com=pd.Series(nb_com)\n",
    "nb_likes=pd.Series(nb_likes)\n",
    "date=pd.Series(date)"
   ]
  },
  {
   "cell_type": "code",
   "execution_count": 157,
   "metadata": {
    "collapsed": true
   },
   "outputs": [],
   "source": [
    "df0=pd.DataFrame()\n",
    "df0['users']=user.values\n",
    "df0['caption']=caption.values\n",
    "df0['video']=video.values\n",
    "df0['nb_com']=nb_com.values\n",
    "df0['nb_likes']=nb_likes.values\n",
    "df0['date']=date.values"
   ]
  },
  {
   "cell_type": "code",
   "execution_count": 158,
   "metadata": {
    "collapsed": true
   },
   "outputs": [],
   "source": [
    "p=[]\n",
    "for user in users:\n",
    "    z = arange(len(df0[df0.users==user]))\n",
    "    p = concatenate((p,z), axis = 0)    "
   ]
  },
  {
   "cell_type": "code",
   "execution_count": 159,
   "metadata": {
    "collapsed": true
   },
   "outputs": [],
   "source": [
    "post = pd.Series(p)\n",
    "df0['post']=post.values"
   ]
  },
  {
   "cell_type": "code",
   "execution_count": 160,
   "metadata": {
    "collapsed": true
   },
   "outputs": [],
   "source": [
    "arrays = [df0.loc[:,'users'],df0.loc[:,'post']]\n",
    "index = pd.MultiIndex.from_arrays(arrays, names=('users', 'post'))\n",
    "df_ = pd.DataFrame({'caption' : caption.values,'video' : video.values,'nb_com' : nb_com.values,'nb_likes' : nb_likes.values,'date' : date.values},\n",
    "                    index=index)"
   ]
  },
  {
   "cell_type": "code",
   "execution_count": 161,
   "metadata": {},
   "outputs": [
    {
     "data": {
      "text/html": [
       "<div>\n",
       "<style scoped>\n",
       "    .dataframe tbody tr th:only-of-type {\n",
       "        vertical-align: middle;\n",
       "    }\n",
       "\n",
       "    .dataframe tbody tr th {\n",
       "        vertical-align: top;\n",
       "    }\n",
       "\n",
       "    .dataframe thead th {\n",
       "        text-align: right;\n",
       "    }\n",
       "</style>\n",
       "<table border=\"1\" class=\"dataframe\">\n",
       "  <thead>\n",
       "    <tr style=\"text-align: right;\">\n",
       "      <th></th>\n",
       "      <th></th>\n",
       "      <th>caption</th>\n",
       "      <th>video</th>\n",
       "      <th>nb_com</th>\n",
       "      <th>nb_likes</th>\n",
       "      <th>date</th>\n",
       "    </tr>\n",
       "    <tr>\n",
       "      <th>users</th>\n",
       "      <th>post</th>\n",
       "      <th></th>\n",
       "      <th></th>\n",
       "      <th></th>\n",
       "      <th></th>\n",
       "      <th></th>\n",
       "    </tr>\n",
       "  </thead>\n",
       "  <tbody>\n",
       "    <tr>\n",
       "      <th rowspan=\"5\" valign=\"top\">bestofvanity</th>\n",
       "      <th>0.0</th>\n",
       "      <td>\\ud83c\\uddee\\ud83c\\uddf9 Si vous souhaitez vou...</td>\n",
       "      <td>False</td>\n",
       "      <td>6</td>\n",
       "      <td>385</td>\n",
       "      <td>2019-04-30 20:11:52</td>\n",
       "    </tr>\n",
       "    <tr>\n",
       "      <th>1.0</th>\n",
       "      <td>L\\u2019autre soir on a parl\\u00e9 d\\u2019Angle...</td>\n",
       "      <td>False</td>\n",
       "      <td>11</td>\n",
       "      <td>313</td>\n",
       "      <td>2019-04-25 10:01:55</td>\n",
       "    </tr>\n",
       "    <tr>\n",
       "      <th>2.0</th>\n",
       "      <td>Sur la C\\u00f4te d\\u2019Azur, il n\\u2019y a pa...</td>\n",
       "      <td>False</td>\n",
       "      <td>9</td>\n",
       "      <td>402</td>\n",
       "      <td>2019-04-24 17:51:36</td>\n",
       "    </tr>\n",
       "    <tr>\n",
       "      <th>3.0</th>\n",
       "      <td>\\ud83c\\udf3f Les jolies petites plantes des re...</td>\n",
       "      <td>False</td>\n",
       "      <td>10</td>\n",
       "      <td>476</td>\n",
       "      <td>2019-04-14 13:58:29</td>\n",
       "    </tr>\n",
       "    <tr>\n",
       "      <th>4.0</th>\n",
       "      <td>\\ud83c\\udf74Qui vient d\\u00eener ce soir ?\\nPe...</td>\n",
       "      <td>False</td>\n",
       "      <td>9</td>\n",
       "      <td>263</td>\n",
       "      <td>2019-04-13 20:20:01</td>\n",
       "    </tr>\n",
       "  </tbody>\n",
       "</table>\n",
       "</div>"
      ],
      "text/plain": [
       "                                                             caption  video  \\\n",
       "users        post                                                             \n",
       "bestofvanity 0.0   \\ud83c\\uddee\\ud83c\\uddf9 Si vous souhaitez vou...  False   \n",
       "             1.0   L\\u2019autre soir on a parl\\u00e9 d\\u2019Angle...  False   \n",
       "             2.0   Sur la C\\u00f4te d\\u2019Azur, il n\\u2019y a pa...  False   \n",
       "             3.0   \\ud83c\\udf3f Les jolies petites plantes des re...  False   \n",
       "             4.0   \\ud83c\\udf74Qui vient d\\u00eener ce soir ?\\nPe...  False   \n",
       "\n",
       "                   nb_com  nb_likes                 date  \n",
       "users        post                                         \n",
       "bestofvanity 0.0        6       385  2019-04-30 20:11:52  \n",
       "             1.0       11       313  2019-04-25 10:01:55  \n",
       "             2.0        9       402  2019-04-24 17:51:36  \n",
       "             3.0       10       476  2019-04-14 13:58:29  \n",
       "             4.0        9       263  2019-04-13 20:20:01  "
      ]
     },
     "execution_count": 161,
     "metadata": {},
     "output_type": "execute_result"
    }
   ],
   "source": [
    "df_.to_csv('posts_dataframe.csv',index=True,header = True)\n",
    "\n",
    "df_.head()"
   ]
  },
  {
   "cell_type": "markdown",
   "metadata": {},
   "source": [
    "## Construction d'indices"
   ]
  },
  {
   "cell_type": "markdown",
   "metadata": {},
   "source": [
    "### Taux d'engagement "
   ]
  },
  {
   "cell_type": "markdown",
   "metadata": {},
   "source": [
    "#### Correction exponentielle"
   ]
  },
  {
   "cell_type": "markdown",
   "metadata": {},
   "source": [
    "On commence avec un exemple pour un utilisateur de l'effet de la correction par des poids exponentiels du nombre de commentaires pour tenir compte du fait que les posts les plus récents n'ont pas eu le temps d'avoir le même impact sur la communauté que les posts les plus anciens. "
   ]
  },
  {
   "cell_type": "code",
   "execution_count": 163,
   "metadata": {},
   "outputs": [
    {
     "data": {
      "image/png": "[encoded data removed]",
      "text/plain": [
       "<matplotlib.figure.Figure at 0x116841a20>"
      ]
     },
     "metadata": {},
     "output_type": "display_data"
    }
   ],
   "source": [
    "import matplotlib.pyplot as plt\n",
    "import math\n",
    "\n",
    "# For the comments\n",
    "\n",
    "date_ranks=[]\n",
    "for j in range(len(list(df_['date']['bestofvanity']))):\n",
    "    date_ranks.append((j,df_['date']['bestofvanity'][j]))\n",
    "\n",
    "date_ranks.sort(key=lambda r: r[1])\n",
    "date_ranks.reverse()\n",
    "date_ranks\n",
    "\n",
    "com_values=[df_['nb_com']['bestofvanity'][date_ranks[i][0]] for i in range(len(date_ranks))]\n",
    "\n",
    "\n",
    "#Generate and use weights\n",
    "x= [k for k in range(len(list(df_['nb_com']['bestofvanity'])))]  #list to change\n",
    "exp_x = [math.exp(i) for i in x]\n",
    "w_exp=[(i/sum(com_values)) for i in exp_x]\n",
    "w_exp.reverse()\n",
    "wcom_val=[i*j for (i,j) in zip(com_values,w_exp)]\n",
    "\n",
    "\n",
    "likes_values=[df_['nb_likes']['bestofvanity'][date_ranks[i][0]] for i in range(len(date_ranks))]\n",
    "\n",
    "\n",
    "#Weights\n",
    "w_exp2=[(i/sum(likes_values)) for i in exp_x]\n",
    "w_exp2.reverse()\n",
    "wlikes_val=[i*j for (i,j) in zip(likes_values,w_exp2)]\n",
    "\n",
    "\n",
    "#Plotting figures\n",
    "\n",
    "fig = plt.figure(figsize=(15, 6))\n",
    "ax1 = fig.add_subplot(1, 2, 1)\n",
    "ax2 = fig.add_subplot(1, 2, 2)\n",
    "\n",
    "ax1.plot(x,com_values)\n",
    "ax1.plot(x,wcom_val)\n",
    "\n",
    "\n",
    "ax2.plot(x,likes_values)\n",
    "ax2.plot(x,wlikes_val)\n",
    "\n",
    "plt.gca().legend(('Unweighted','Weighted'))\n",
    "\n",
    "plt.show()\n"
   ]
  },
  {
   "cell_type": "markdown",
   "metadata": {},
   "source": [
    "#### Calcul des taux d'engagement"
   ]
  },
  {
   "cell_type": "code",
   "execution_count": 164,
   "metadata": {
    "collapsed": true
   },
   "outputs": [],
   "source": [
    "import datetime\n",
    "\n",
    "# On passe aux calculs de moyenne à proprement parler\n",
    "\n",
    "users_w_info=list(df0['users'])\n",
    "users_w_info=list(dict.fromkeys(users_w_info))\n",
    "\n",
    "averages={}\n",
    "\n",
    "for usr in users_w_info:\n",
    "    \n",
    "    date_ranks=[]\n",
    "    dates=[]\n",
    "    \n",
    "    try:\n",
    "        for j in range(len(list(df_['date'][usr]))):\n",
    "            date_ranks.append((j,df_['date'][usr][j]))\n",
    "            dates.append(df_['date'][usr][j])\n",
    "\n",
    "        date_ranks.sort(key=lambda r: r[1])\n",
    "        date_ranks.reverse()\n",
    "    \n",
    "        #On prend en compte la durée entre le plus ancien et le plus récent des posts\n",
    "    \n",
    "        dates=[datetime.datetime.strptime(date_initial, '%Y-%m-%d %H:%M:%S') for date_initial in dates]\n",
    "        periode=str(max(dates)-min(dates))\n",
    "        periode=periode[:periode.find(' day')]\n",
    "    \n",
    "        try: periode=int(periode)\n",
    "        except: periode=1\n",
    "    \n",
    "        com_values=[df_['nb_com'][usr][date_ranks[i][0]] for i in range(len(date_ranks))]\n",
    "\n",
    "\n",
    "        #Generate and use weights\n",
    "        x= [k for k in range(len(list(df_['nb_com'][usr])))]  #list to change\n",
    "        exp_x = [math.exp(i) for i in x]\n",
    "        w_exp=[(i/max(1,sum(com_values))) for i in exp_x]\n",
    "        w_exp.reverse()\n",
    "        \n",
    "        w_exp=[1 for k in range(len(list(df_['nb_com'][usr])))]    #Commenter pour remettre les poids exponentiels\n",
    "        \n",
    "        wcom_val=[i*j for (i,j) in zip(com_values,w_exp)]\n",
    "\n",
    "\n",
    "        likes_values=[df_['nb_likes'][usr][date_ranks[i][0]] for i in range(len(date_ranks))]\n",
    "\n",
    "\n",
    "    #Weights\n",
    "        w_exp2=[(i/max(1,sum(likes_values))) for i in exp_x]\n",
    "        w_exp2.reverse()\n",
    "        wlikes_val=[i*j for (i,j) in zip(likes_values,w_exp2)]\n",
    "\n",
    "\n",
    "        wavg_com=sum(wcom_val)/max(1,len(list(df_['date'][usr])))\n",
    "        wavg_likes=sum(wlikes_val)/max(1,len(list(df_['date'][usr])))\n",
    "    \n",
    "        averages[usr]=[(wavg_com,wavg_likes),periode]\n",
    "        \n",
    "    except:\n",
    "        averages[usr]=[(0,0),0]"
   ]
  },
  {
   "cell_type": "code",
   "execution_count": 165,
   "metadata": {},
   "outputs": [
    {
     "data": {
      "text/plain": [
       "(2802, 2836)"
      ]
     },
     "execution_count": 165,
     "metadata": {},
     "output_type": "execute_result"
    }
   ],
   "source": [
    "followers=[]\n",
    "for j in range(len(list(df['user']))):\n",
    "    followers.append((df['user'][j],df['followers'][j]))\n",
    "    \n",
    "len(averages) , len(followers)  #Comparer avec le nombre total d'utilisateurs qu'on avait au début"
   ]
  },
  {
   "cell_type": "code",
   "execution_count": 166,
   "metadata": {},
   "outputs": [
    {
     "data": {
      "text/plain": [
       "2801"
      ]
     },
     "execution_count": 166,
     "metadata": {},
     "output_type": "execute_result"
    }
   ],
   "source": [
    "engagement_ratio={}\n",
    "users_list=list(averages.keys())\n",
    "\n",
    "for i in range(len(followers)):\n",
    "    \n",
    "    usr=followers[i][0]\n",
    "    \n",
    "    if usr in users_list:\n",
    "        \n",
    "\n",
    "        \n",
    "        follow=float(followers[i][1])\n",
    "        \n",
    "        periode=int(averages[usr][1])\n",
    "        \n",
    "        likes=float(averages[usr][0][1])\n",
    "        comment=float(averages[usr][0][0])\n",
    "    \n",
    "        values=(comment/(periode*follow)*100,likes/(periode*follow)*100)\n",
    "\n",
    "    else:\n",
    "        values=(0,0)\n",
    "        \n",
    "    engagement_ratio[usr]=values\n",
    "    \n",
    "# On supprimer les observations nulles \n",
    "engagement_ratio={k:v for k,v in engagement_ratio.items() if v!=(0,0)}\n",
    "\n",
    "len(engagement_ratio)"
   ]
  },
  {
   "cell_type": "code",
   "execution_count": 167,
   "metadata": {},
   "outputs": [
    {
     "data": {
      "text/plain": [
       "2801"
      ]
     },
     "execution_count": 167,
     "metadata": {},
     "output_type": "execute_result"
    }
   ],
   "source": [
    "# On récupère la liste des utilisateurs à jour \n",
    "users=list(engagement_ratio.keys())\n",
    "len(users)"
   ]
  },
  {
   "cell_type": "markdown",
   "metadata": {},
   "source": [
    "### Indice d'authenticité"
   ]
  },
  {
   "cell_type": "code",
   "execution_count": 170,
   "metadata": {
    "collapsed": true
   },
   "outputs": [],
   "source": [
    "def normalize_values(d):\n",
    "    \"\"\"\n",
    "    Return dictionary with normalized values (0 to 1).\n",
    "    Args:\n",
    "        d (dict): Dictionary with user ids and raw scores.\n",
    "    Returns:\n",
    "        d_norm (dict): Dictionary with user ids and normalized scores.\n",
    "    \"\"\"\n",
    "    minimum = min(d.items(), key= lambda x: x[1])[1]\n",
    "    maximum = max(d.items(), key= lambda x: x[1])[1]\n",
    "\n",
    "    d_norm = {}\n",
    "    for user_id in d:\n",
    "        d_norm[user_id] = (d[user_id] - minimum) / (maximum - minimum)\n",
    "\n",
    "    return d_norm\n",
    "\n",
    "def calc_authenticity_score(users, df):\n",
    "    \"\"\"\n",
    "    Calculate and sort by authenticity scores for reduced graph based\n",
    "        on compound sentiment analysis score (higher scores for more negative posts).\n",
    "    Args:\n",
    "        df: pandas.Dataframe\n",
    "        users : list of users\n",
    "    Returns:\n",
    "        authenticity_score\n",
    "    \"\"\"\n",
    "    analyzer = SentimentIntensityAnalyzer()\n",
    "    \n",
    "    caption_sentiment = defaultdict(list)\n",
    "    for user_id in users:\n",
    "        for caption in df.loc[user_id,'caption']:\n",
    "            vs = analyzer.polarity_scores(caption)\n",
    "            if user_id in caption_sentiment:\n",
    "                caption_sentiment[user_id].append(vs)\n",
    "            else:\n",
    "                caption_sentiment[user_id] = [vs]\n",
    "\n",
    "    caption_sentiment_means = defaultdict(list)\n",
    "    for user_id in users:\n",
    "        df = pd.DataFrame(caption_sentiment[user_id])\n",
    "        # Subtract compound score from 1 to penalize more positive captions\n",
    "        caption_sentiment_means[user_id] = 1 - dict(df.mean())['compound']\n",
    "    \n",
    "    caption_sentiment_means = normalize_values(caption_sentiment_means)\n",
    "\n",
    "    return caption_sentiment_means"
   ]
  },
  {
   "cell_type": "code",
   "execution_count": 171,
   "metadata": {
    "collapsed": true
   },
   "outputs": [],
   "source": [
    "authenticity_score=calc_authenticity_score(users,df_)"
   ]
  },
  {
   "cell_type": "markdown",
   "metadata": {},
   "source": [
    "### Indice d'interaction"
   ]
  },
  {
   "cell_type": "code",
   "execution_count": 172,
   "metadata": {
    "collapsed": true
   },
   "outputs": [],
   "source": [
    "followers_dict=dict(followers)\n",
    "followers_dict = dict((k,int(v)) for k,v in followers_dict.items())"
   ]
  },
  {
   "cell_type": "code",
   "execution_count": 173,
   "metadata": {
    "collapsed": true
   },
   "outputs": [],
   "source": [
    "for usr in list(followers_dict.keys()):\n",
    "    if usr not in users:\n",
    "        del followers_dict[usr]"
   ]
  },
  {
   "cell_type": "code",
   "execution_count": 174,
   "metadata": {},
   "outputs": [
    {
     "data": {
      "text/html": [
       "<div>\n",
       "<style scoped>\n",
       "    .dataframe tbody tr th:only-of-type {\n",
       "        vertical-align: middle;\n",
       "    }\n",
       "\n",
       "    .dataframe tbody tr th {\n",
       "        vertical-align: top;\n",
       "    }\n",
       "\n",
       "    .dataframe thead th {\n",
       "        text-align: right;\n",
       "    }\n",
       "</style>\n",
       "<table border=\"1\" class=\"dataframe\">\n",
       "  <thead>\n",
       "    <tr style=\"text-align: right;\">\n",
       "      <th></th>\n",
       "      <th>users</th>\n",
       "      <th>nb_followers</th>\n",
       "    </tr>\n",
       "  </thead>\n",
       "  <tbody>\n",
       "    <tr>\n",
       "      <th>0</th>\n",
       "      <td>bestofvanity</td>\n",
       "      <td>9286</td>\n",
       "    </tr>\n",
       "    <tr>\n",
       "      <th>1</th>\n",
       "      <td>deedeeparis</td>\n",
       "      <td>68181</td>\n",
       "    </tr>\n",
       "    <tr>\n",
       "      <th>2</th>\n",
       "      <td>saeve_france</td>\n",
       "      <td>10464</td>\n",
       "    </tr>\n",
       "    <tr>\n",
       "      <th>3</th>\n",
       "      <td>lilibarbery</td>\n",
       "      <td>40337</td>\n",
       "    </tr>\n",
       "    <tr>\n",
       "      <th>4</th>\n",
       "      <td>misswofficiel</td>\n",
       "      <td>2808</td>\n",
       "    </tr>\n",
       "  </tbody>\n",
       "</table>\n",
       "</div>"
      ],
      "text/plain": [
       "           users  nb_followers\n",
       "0   bestofvanity          9286\n",
       "1    deedeeparis         68181\n",
       "2   saeve_france         10464\n",
       "3    lilibarbery         40337\n",
       "4  misswofficiel          2808"
      ]
     },
     "execution_count": 174,
     "metadata": {},
     "output_type": "execute_result"
    }
   ],
   "source": [
    "user_follower = pd.DataFrame({'users' : users,'nb_followers' : list(followers_dict.values())})\n",
    "user_follower.head()"
   ]
  },
  {
   "cell_type": "code",
   "execution_count": 175,
   "metadata": {
    "collapsed": true
   },
   "outputs": [],
   "source": [
    "def Average(lst): \n",
    "    return sum(lst) / len(lst)\n",
    "\n",
    "def normalize_values(d):\n",
    "    \"\"\"\n",
    "    Return dictionary with normalized values (0 to 1).\n",
    "    Args:\n",
    "        d (dict): Dictionary with user ids and raw scores.\n",
    "    Returns:\n",
    "        d_norm (dict): Dictionary with user ids and normalized scores.\n",
    "    \"\"\"\n",
    "    minimum = min(d.items(), key= lambda x: x[1])[1]\n",
    "    maximum = max(d.items(), key= lambda x: x[1])[1]\n",
    "\n",
    "    d_norm = {}\n",
    "    for user_id in d:\n",
    "        d_norm[user_id] = (d[user_id] - minimum) / (maximum - minimum)\n",
    "\n",
    "    return d_norm\n",
    "\n",
    "def calc_interaction_score(user, df):\n",
    "    \"\"\"\n",
    "    Calculate and sort by interaction scores for reduced graph based\n",
    "        on likes and followers (higher scores for larger likes to followers ratios).\n",
    "    Args:\n",
    "        df: pandas.Dataframe\n",
    "        users : list of users\n",
    "    Returns\n",
    "        Interaction scores\n",
    "    \"\"\"\n",
    "    interaction_score = defaultdict(list)\n",
    "\n",
    "    for user_id in users:\n",
    "        like = []\n",
    "        com = []\n",
    "        for likes in df.loc[user_id,'nb_likes']:\n",
    "            like.append(likes)\n",
    "        avg_like = Average(like)\n",
    "        for coms in df.loc[user_id,'nb_com']:\n",
    "            com.append(coms)\n",
    "        avg_com = Average(com)\n",
    "        tg = ((0.4*avg_like + 0.6*avg_com)/user_follower.loc[user_follower['users'] == user_id].iloc[:,1])\n",
    "        interaction_score[user_id] = tg.values.item(0)\n",
    "    \n",
    "    interaction_score = normalize_values(interaction_score)\n",
    "    \n",
    "    return interaction_score"
   ]
  },
  {
   "cell_type": "code",
   "execution_count": 176,
   "metadata": {
    "collapsed": true
   },
   "outputs": [],
   "source": [
    "interaction_score=calc_interaction_score(users, df_)"
   ]
  },
  {
   "cell_type": "markdown",
   "metadata": {},
   "source": [
    "### Centralité"
   ]
  },
  {
   "cell_type": "code",
   "execution_count": 177,
   "metadata": {
    "collapsed": true
   },
   "outputs": [],
   "source": [
    "# Importer directement du tableau précédent\n",
    "\n",
    "centrality = dict()\n",
    "with open('dict_centrality.txt','r') as raw_data:\n",
    "    for item in raw_data:\n",
    "        if ':' in item:\n",
    "            key,value = item.split(':', 1)\n",
    "            value=value[1:-2]\n",
    "            value=value.split(',')\n",
    "            try: value[0]=float(value[0])\n",
    "            except: value[0]=0\n",
    "                \n",
    "            try: value[1]=float(value[1])\n",
    "            except: value[1]=0\n",
    "\n",
    "            centrality[key]=value\n",
    "        else:\n",
    "            pass # deal with bad lines of text here\n"
   ]
  },
  {
   "cell_type": "markdown",
   "metadata": {},
   "source": [
    "## Visualisation des résultats et sélection"
   ]
  },
  {
   "cell_type": "markdown",
   "metadata": {},
   "source": [
    "### Visualisation"
   ]
  },
  {
   "cell_type": "markdown",
   "metadata": {},
   "source": [
    "On sélectionne essentiellement sur base des scores d'authenticité et d'interaction. En effet, on sait déjà que tous les comptes sont des points centraux et l'on souhaite notamment éliminer les comptes "
   ]
  },
  {
   "cell_type": "code",
   "execution_count": 178,
   "metadata": {},
   "outputs": [
    {
     "data": {
      "text/plain": [
       "1948"
      ]
     },
     "execution_count": 178,
     "metadata": {},
     "output_type": "execute_result"
    }
   ],
   "source": [
    "# Suppression préalable des comptes avec trop peu de followers (5000 minimum)\n",
    "\n",
    "i=0\n",
    "to_delete=[]\n",
    "for value in user_follower[\"nb_followers\"]:\n",
    "    if value<5000 :  #Supprimer les trop petits comptes\n",
    "        index=user_follower[\"nb_followers\"][i]\n",
    "        to_delete.append(user_follower[\"users\"][i])\n",
    "    elif value>1000000:   #Elever les trop gros comptes\n",
    "        index=user_follower[\"nb_followers\"][i]\n",
    "        to_delete.append(user_follower[\"users\"][i])        \n",
    "    i+=1\n",
    "\n",
    "\n",
    "users=[usr for usr in users if usr not in to_delete]\n",
    "len(users)"
   ]
  },
  {
   "cell_type": "code",
   "execution_count": 179,
   "metadata": {
    "collapsed": true
   },
   "outputs": [],
   "source": [
    "# Métriques : \n",
    "# interaction_score, authenticity_score, eigen_centrality, page_centrality, engagement_ratio\n",
    "\n",
    "usernames=[]\n",
    "eigen=[]\n",
    "page=[]\n",
    "eng_likes=[]\n",
    "eng_comments=[]\n",
    "authenticity=[]\n",
    "interaction=[]\n",
    "\n",
    "for usr in users:\n",
    "    usernames.append(usr)\n",
    "    eigen.append(centrality[usr][0])\n",
    "    page.append(centrality[usr][1])\n",
    "    eng_comments.append(engagement_ratio[usr][0])\n",
    "    eng_likes.append(engagement_ratio[usr][1])\n",
    "    authenticity.append(authenticity_score[usr])\n",
    "    interaction.append(interaction_score[usr])\n"
   ]
  },
  {
   "cell_type": "code",
   "execution_count": 180,
   "metadata": {},
   "outputs": [
    {
     "data": {
      "text/html": [
       "<div>\n",
       "<style scoped>\n",
       "    .dataframe tbody tr th:only-of-type {\n",
       "        vertical-align: middle;\n",
       "    }\n",
       "\n",
       "    .dataframe tbody tr th {\n",
       "        vertical-align: top;\n",
       "    }\n",
       "\n",
       "    .dataframe thead th {\n",
       "        text-align: right;\n",
       "    }\n",
       "</style>\n",
       "<table border=\"1\" class=\"dataframe\">\n",
       "  <thead>\n",
       "    <tr style=\"text-align: right;\">\n",
       "      <th></th>\n",
       "      <th>user</th>\n",
       "      <th>eigen_centrality</th>\n",
       "      <th>page_centrality</th>\n",
       "      <th>engagement_comments</th>\n",
       "      <th>engagement_likes</th>\n",
       "      <th>authenticity</th>\n",
       "      <th>interaction</th>\n",
       "    </tr>\n",
       "  </thead>\n",
       "  <tbody>\n",
       "    <tr>\n",
       "      <th>0</th>\n",
       "      <td>bestofvanity</td>\n",
       "      <td>0.068994</td>\n",
       "      <td>0.000019</td>\n",
       "      <td>0.001360</td>\n",
       "      <td>0.110196</td>\n",
       "      <td>0.590334</td>\n",
       "      <td>0.047733</td>\n",
       "    </tr>\n",
       "    <tr>\n",
       "      <th>1</th>\n",
       "      <td>deedeeparis</td>\n",
       "      <td>0.000000</td>\n",
       "      <td>0.000030</td>\n",
       "      <td>0.000282</td>\n",
       "      <td>0.017392</td>\n",
       "      <td>0.720823</td>\n",
       "      <td>0.018595</td>\n",
       "    </tr>\n",
       "    <tr>\n",
       "      <th>2</th>\n",
       "      <td>saeve_france</td>\n",
       "      <td>0.066885</td>\n",
       "      <td>0.000000</td>\n",
       "      <td>0.003542</td>\n",
       "      <td>0.178745</td>\n",
       "      <td>0.560930</td>\n",
       "      <td>0.029008</td>\n",
       "    </tr>\n",
       "    <tr>\n",
       "      <th>3</th>\n",
       "      <td>lilibarbery</td>\n",
       "      <td>0.000000</td>\n",
       "      <td>0.000021</td>\n",
       "      <td>0.000196</td>\n",
       "      <td>0.030262</td>\n",
       "      <td>0.641998</td>\n",
       "      <td>0.019445</td>\n",
       "    </tr>\n",
       "    <tr>\n",
       "      <th>4</th>\n",
       "      <td>mangoandsalt</td>\n",
       "      <td>0.000000</td>\n",
       "      <td>0.000014</td>\n",
       "      <td>0.001834</td>\n",
       "      <td>0.018040</td>\n",
       "      <td>0.599359</td>\n",
       "      <td>0.038597</td>\n",
       "    </tr>\n",
       "  </tbody>\n",
       "</table>\n",
       "</div>"
      ],
      "text/plain": [
       "           user  eigen_centrality  page_centrality  engagement_comments  \\\n",
       "0  bestofvanity          0.068994         0.000019             0.001360   \n",
       "1   deedeeparis          0.000000         0.000030             0.000282   \n",
       "2  saeve_france          0.066885         0.000000             0.003542   \n",
       "3   lilibarbery          0.000000         0.000021             0.000196   \n",
       "4  mangoandsalt          0.000000         0.000014             0.001834   \n",
       "\n",
       "   engagement_likes  authenticity  interaction  \n",
       "0          0.110196      0.590334     0.047733  \n",
       "1          0.017392      0.720823     0.018595  \n",
       "2          0.178745      0.560930     0.029008  \n",
       "3          0.030262      0.641998     0.019445  \n",
       "4          0.018040      0.599359     0.038597  "
      ]
     },
     "execution_count": 180,
     "metadata": {},
     "output_type": "execute_result"
    }
   ],
   "source": [
    "metrics=pd.DataFrame()\n",
    "metrics['user']=usernames\n",
    "metrics['eigen_centrality']=eigen\n",
    "metrics['page_centrality']=page\n",
    "metrics['engagement_comments']=eng_comments\n",
    "metrics['engagement_likes']=eng_likes\n",
    "metrics['authenticity']=authenticity\n",
    "metrics['interaction']=interaction\n",
    "\n",
    "\n",
    "metrics.to_csv(\"metrics_dataframe.csv\",header=True)  # Sauvegarde la BD pour ne pas avoir à tout recommercer à\n",
    "                                                     # chaque lancement du notebook\n",
    "\n",
    "metrics.head()"
   ]
  },
  {
   "cell_type": "code",
   "execution_count": 18,
   "metadata": {},
   "outputs": [],
   "source": [
    "#Réimporter la base de données (pour permettre une utilisation sans avoir à scrapper à nouveau)\n",
    "#table identique à celle de la cellule du dessus\n",
    "\n",
    "import pandas as pd\n",
    "\n",
    "metrics = pd.read_csv('metrics_dataframe.csv')   # Pour permettre une utilisation peu importe si le notebook\n",
    "                                                    # a été interrompu ou non\n",
    "metrics=metrics.drop('Unnamed: 0',axis = 1)"
   ]
  },
  {
   "cell_type": "code",
   "execution_count": 19,
   "metadata": {},
   "outputs": [
    {
     "data": {
      "text/html": [
       "<div>\n",
       "<style scoped>\n",
       "    .dataframe tbody tr th:only-of-type {\n",
       "        vertical-align: middle;\n",
       "    }\n",
       "\n",
       "    .dataframe tbody tr th {\n",
       "        vertical-align: top;\n",
       "    }\n",
       "\n",
       "    .dataframe thead th {\n",
       "        text-align: right;\n",
       "    }\n",
       "</style>\n",
       "<table border=\"1\" class=\"dataframe\">\n",
       "  <thead>\n",
       "    <tr style=\"text-align: right;\">\n",
       "      <th></th>\n",
       "      <th>eigen_centrality</th>\n",
       "      <th>page_centrality</th>\n",
       "      <th>engagement_comments</th>\n",
       "      <th>engagement_likes</th>\n",
       "      <th>authenticity</th>\n",
       "      <th>interaction</th>\n",
       "    </tr>\n",
       "  </thead>\n",
       "  <tbody>\n",
       "    <tr>\n",
       "      <th>bestofvanity</th>\n",
       "      <td>0.068994</td>\n",
       "      <td>0.000019</td>\n",
       "      <td>0.001360</td>\n",
       "      <td>0.110196</td>\n",
       "      <td>0.590334</td>\n",
       "      <td>0.047733</td>\n",
       "    </tr>\n",
       "    <tr>\n",
       "      <th>deedeeparis</th>\n",
       "      <td>0.000000</td>\n",
       "      <td>0.000030</td>\n",
       "      <td>0.000282</td>\n",
       "      <td>0.017392</td>\n",
       "      <td>0.720823</td>\n",
       "      <td>0.018595</td>\n",
       "    </tr>\n",
       "    <tr>\n",
       "      <th>saeve_france</th>\n",
       "      <td>0.066885</td>\n",
       "      <td>0.000000</td>\n",
       "      <td>0.003542</td>\n",
       "      <td>0.178745</td>\n",
       "      <td>0.560930</td>\n",
       "      <td>0.029008</td>\n",
       "    </tr>\n",
       "    <tr>\n",
       "      <th>lilibarbery</th>\n",
       "      <td>0.000000</td>\n",
       "      <td>0.000021</td>\n",
       "      <td>0.000196</td>\n",
       "      <td>0.030262</td>\n",
       "      <td>0.641998</td>\n",
       "      <td>0.019445</td>\n",
       "    </tr>\n",
       "    <tr>\n",
       "      <th>mangoandsalt</th>\n",
       "      <td>0.000000</td>\n",
       "      <td>0.000014</td>\n",
       "      <td>0.001834</td>\n",
       "      <td>0.018040</td>\n",
       "      <td>0.599359</td>\n",
       "      <td>0.038597</td>\n",
       "    </tr>\n",
       "  </tbody>\n",
       "</table>\n",
       "</div>"
      ],
      "text/plain": [
       "              eigen_centrality  page_centrality  engagement_comments  \\\n",
       "bestofvanity          0.068994         0.000019             0.001360   \n",
       "deedeeparis           0.000000         0.000030             0.000282   \n",
       "saeve_france          0.066885         0.000000             0.003542   \n",
       "lilibarbery           0.000000         0.000021             0.000196   \n",
       "mangoandsalt          0.000000         0.000014             0.001834   \n",
       "\n",
       "              engagement_likes  authenticity  interaction  \n",
       "bestofvanity          0.110196      0.590334     0.047733  \n",
       "deedeeparis           0.017392      0.720823     0.018595  \n",
       "saeve_france          0.178745      0.560930     0.029008  \n",
       "lilibarbery           0.030262      0.641998     0.019445  \n",
       "mangoandsalt          0.018040      0.599359     0.038597  "
      ]
     },
     "execution_count": 19,
     "metadata": {},
     "output_type": "execute_result"
    }
   ],
   "source": [
    "#retravailler la bd pour faire l'ACP\n",
    "\n",
    "col_names={}\n",
    "for index in range(len(metrics)):\n",
    "    col_names[index]=list(metrics.loc[index])[0]\n",
    "metrics=metrics.rename(col_names,axis = 'index')\n",
    "metrics=metrics.drop('user',axis = 1)\n",
    "metrics.head()"
   ]
  },
  {
   "cell_type": "markdown",
   "metadata": {},
   "source": [
    "#### Analyse en composantes principales"
   ]
  },
  {
   "cell_type": "markdown",
   "metadata": {},
   "source": [
    "On a le coeur de l'analyse -- https://analyticsdefined.com/implementing-principal-component-analysis/ Voir notamment l'interprétation du tableau des variables (le biplot c'est comme dans le cours, et de la scatter matrix)"
   ]
  },
  {
   "cell_type": "code",
   "execution_count": 20,
   "metadata": {
    "collapsed": true
   },
   "outputs": [],
   "source": [
    "import pandas as pd\n",
    "import numpy as np\n",
    "import matplotlib.pyplot as plt"
   ]
  },
  {
   "cell_type": "code",
   "execution_count": 21,
   "metadata": {},
   "outputs": [
    {
     "name": "stderr",
     "output_type": "stream",
     "text": [
      "/Users/Gabriel/anaconda3/lib/python3.6/site-packages/ipykernel_launcher.py:4: FutureWarning: pandas.scatter_matrix is deprecated, use pandas.plotting.scatter_matrix instead\n",
      "  after removing the cwd from sys.path.\n"
     ]
    },
    {
     "data": {
      "image/png": "[encoded data removed]",
      "text/plain": [
       "<matplotlib.figure.Figure at 0x1a1c1fb400>"
      ]
     },
     "metadata": {},
     "output_type": "display_data"
    }
   ],
   "source": [
    "#Scatter matrix\n",
    "import seaborn as sns\n",
    "\n",
    "pd.scatter_matrix(metrics, alpha = 0.3, figsize = (14,10), diagonal='kde');\n",
    "#sns.heatmap(metrics.corr(), cmap='BuGn')  #plus simple à implémenter\n",
    "#https://medium.com/@raghavan99o/scatter-matrix-covariance-and-correlation-explained-14921741ca56\n",
    "\n",
    "plt.show()"
   ]
  },
  {
   "cell_type": "code",
   "execution_count": 24,
   "metadata": {},
   "outputs": [],
   "source": [
    "from sklearn.preprocessing import scale\n",
    "from sklearn.decomposition import PCA\n",
    "\n",
    "# scaling the data before PCA\n",
    "\n",
    "data = pd.DataFrame(scale(metrics), columns=list(metrics.columns))\n",
    "\n",
    "# implementing PCA\n",
    "\n",
    "from sklearn.decomposition import PCA\n",
    "\n",
    "pca = PCA(n_components=6).fit(data)\n",
    "pca_samples = pca.transform(data)"
   ]
  },
  {
   "cell_type": "code",
   "execution_count": 25,
   "metadata": {
    "collapsed": true
   },
   "outputs": [],
   "source": [
    "def pca_results(data, pca):\n",
    "    \n",
    "    # Dimension indexing\n",
    "    dimensions = ['Dimension {}'.format(i) for i in range(1,len(pca.components_)+1)]\n",
    "    \n",
    "    # PCA components\n",
    "    components = pd.DataFrame(np.round(pca.components_, 4), columns = data.keys()) \n",
    "    components.index = dimensions\n",
    "\n",
    "    # PCA explained variance\n",
    "    ratios = pca.explained_variance_ratio_.reshape(len(pca.components_), 1) \n",
    "    variance_ratios = pd.DataFrame(np.round(ratios, 4), columns = ['Explained Variance']) \n",
    "    variance_ratios.index = dimensions\n",
    "\n",
    "    # Create a bar plot visualization\n",
    "    fig, ax = plt.subplots(figsize = (14,8))\n",
    "\n",
    "    # Plot the feature weights as a function of the components\n",
    "    components.plot(ax = ax, kind = 'bar')\n",
    "    ax.set_ylabel(\"Feature Weights\") \n",
    "    ax.set_xticklabels(dimensions, rotation=0)\n",
    "\n",
    "    # Display the explained variance ratios# \n",
    "    for i, ev in enumerate(pca.explained_variance_ratio_): \n",
    "        ax.text(i-0.40, ax.get_ylim()[1] + 0.05, \"Explained Variance\\n %.4f\"%(ev))\n",
    "\n",
    "    # Return a concatenated DataFrame\n",
    "    return pd.concat([variance_ratios, components], axis = 1)\n",
    "\n",
    "\n",
    "\n"
   ]
  },
  {
   "cell_type": "code",
   "execution_count": 28,
   "metadata": {},
   "outputs": [],
   "source": [
    "pca_results = pca_results(data, pca)\n",
    "#plt.show()"
   ]
  },
  {
   "cell_type": "code",
   "execution_count": 29,
   "metadata": {},
   "outputs": [
    {
     "data": {
      "text/html": [
       "<div>\n",
       "<style scoped>\n",
       "    .dataframe tbody tr th:only-of-type {\n",
       "        vertical-align: middle;\n",
       "    }\n",
       "\n",
       "    .dataframe tbody tr th {\n",
       "        vertical-align: top;\n",
       "    }\n",
       "\n",
       "    .dataframe thead th {\n",
       "        text-align: right;\n",
       "    }\n",
       "</style>\n",
       "<table border=\"1\" class=\"dataframe\">\n",
       "  <thead>\n",
       "    <tr style=\"text-align: right;\">\n",
       "      <th></th>\n",
       "      <th>Explained Variance</th>\n",
       "      <th>eigen_centrality</th>\n",
       "      <th>page_centrality</th>\n",
       "      <th>engagement_comments</th>\n",
       "      <th>engagement_likes</th>\n",
       "      <th>authenticity</th>\n",
       "      <th>interaction</th>\n",
       "    </tr>\n",
       "  </thead>\n",
       "  <tbody>\n",
       "    <tr>\n",
       "      <th>Dimension 1</th>\n",
       "      <td>0.2848</td>\n",
       "      <td>-0.6028</td>\n",
       "      <td>0.5951</td>\n",
       "      <td>0.2254</td>\n",
       "      <td>-0.0731</td>\n",
       "      <td>0.0953</td>\n",
       "      <td>0.4661</td>\n",
       "    </tr>\n",
       "    <tr>\n",
       "      <th>Dimension 2</th>\n",
       "      <td>0.4822</td>\n",
       "      <td>-0.2685</td>\n",
       "      <td>0.2598</td>\n",
       "      <td>0.9338</td>\n",
       "      <td>-0.1391</td>\n",
       "      <td>0.3415</td>\n",
       "      <td>0.9233</td>\n",
       "    </tr>\n",
       "    <tr>\n",
       "      <th>Dimension 3</th>\n",
       "      <td>0.6515</td>\n",
       "      <td>-0.2607</td>\n",
       "      <td>0.3021</td>\n",
       "      <td>0.7960</td>\n",
       "      <td>0.6335</td>\n",
       "      <td>0.9595</td>\n",
       "      <td>0.9409</td>\n",
       "    </tr>\n",
       "    <tr>\n",
       "      <th>Dimension 4</th>\n",
       "      <td>0.8124</td>\n",
       "      <td>-0.2848</td>\n",
       "      <td>0.2878</td>\n",
       "      <td>1.0368</td>\n",
       "      <td>1.2598</td>\n",
       "      <td>0.2281</td>\n",
       "      <td>1.0592</td>\n",
       "    </tr>\n",
       "    <tr>\n",
       "      <th>Dimension 5</th>\n",
       "      <td>0.9223</td>\n",
       "      <td>-0.3762</td>\n",
       "      <td>0.5345</td>\n",
       "      <td>1.6430</td>\n",
       "      <td>1.2897</td>\n",
       "      <td>0.3314</td>\n",
       "      <td>0.3164</td>\n",
       "    </tr>\n",
       "    <tr>\n",
       "      <th>Dimension 6</th>\n",
       "      <td>1.0001</td>\n",
       "      <td>0.3421</td>\n",
       "      <td>1.2205</td>\n",
       "      <td>1.5892</td>\n",
       "      <td>1.2755</td>\n",
       "      <td>0.2786</td>\n",
       "      <td>0.4040</td>\n",
       "    </tr>\n",
       "  </tbody>\n",
       "</table>\n",
       "</div>"
      ],
      "text/plain": [
       "             Explained Variance  eigen_centrality  page_centrality  \\\n",
       "Dimension 1              0.2848           -0.6028           0.5951   \n",
       "Dimension 2              0.4822           -0.2685           0.2598   \n",
       "Dimension 3              0.6515           -0.2607           0.3021   \n",
       "Dimension 4              0.8124           -0.2848           0.2878   \n",
       "Dimension 5              0.9223           -0.3762           0.5345   \n",
       "Dimension 6              1.0001            0.3421           1.2205   \n",
       "\n",
       "             engagement_comments  engagement_likes  authenticity  interaction  \n",
       "Dimension 1               0.2254           -0.0731        0.0953       0.4661  \n",
       "Dimension 2               0.9338           -0.1391        0.3415       0.9233  \n",
       "Dimension 3               0.7960            0.6335        0.9595       0.9409  \n",
       "Dimension 4               1.0368            1.2598        0.2281       1.0592  \n",
       "Dimension 5               1.6430            1.2897        0.3314       0.3164  \n",
       "Dimension 6               1.5892            1.2755        0.2786       0.4040  "
      ]
     },
     "execution_count": 29,
     "metadata": {},
     "output_type": "execute_result"
    }
   ],
   "source": [
    "pca_results.cumsum()"
   ]
  },
  {
   "cell_type": "code",
   "execution_count": 31,
   "metadata": {},
   "outputs": [
    {
     "data": {
      "image/png": "[encoded data removed]",
      "text/plain": [
       "<matplotlib.figure.Figure at 0x1a1d412240>"
      ]
     },
     "metadata": {},
     "output_type": "display_data"
    }
   ],
   "source": [
    "#Explained variance\n",
    "plt.plot(pca.explained_variance_ratio_)\n",
    "plt.xlabel('number of components')\n",
    "plt.ylabel('cumulative explained variance')\n",
    "plt.show()"
   ]
  },
  {
   "cell_type": "code",
   "execution_count": 43,
   "metadata": {},
   "outputs": [],
   "source": [
    "# creating a biplot\n",
    "\n",
    "pca = PCA(n_components=2).fit(data)\n",
    "reduced_data = pca.transform(data)\n",
    "pca_samples = pca.transform(data)\n",
    "reduced_data = pd.DataFrame(reduced_data, columns = ['Dimension 1', 'Dimension 2'])"
   ]
  },
  {
   "cell_type": "code",
   "execution_count": 44,
   "metadata": {
    "collapsed": true
   },
   "outputs": [],
   "source": [
    "def biplot(data, reduced_data, pca):\n",
    "    \n",
    "    fig, ax = plt.subplots(figsize = (16,9))\n",
    "    \n",
    "    # scatterplot of the reduced data \n",
    "    ax.scatter(x=reduced_data.loc[:, 'Dimension 1'], y=reduced_data.loc[:, 'Dimension 2'], facecolors='b', edgecolors='b', s=70, alpha=0.5)\n",
    "    \n",
    "    feature_vectors = pca.components_.T\n",
    "\n",
    "    # using scaling factors to make the arrows\n",
    "    arrow_size, text_pos = 3, 2,\n",
    "\n",
    "    # projections of the original features\n",
    "    for i, v in enumerate(feature_vectors):\n",
    "        ax.arrow(0, 0, arrow_size*v[0], arrow_size*v[1], head_width=0.2, head_length=0.2, linewidth=2, color='red')\n",
    "        ax.text(v[0]*text_pos, v[1]*text_pos, data.columns[i], color='black', ha='center', va='center', fontsize=18)\n",
    "\n",
    "    ax.set_xlabel(\"Dimension 1\", fontsize=14)\n",
    "    ax.set_ylabel(\"Dimension 2\", fontsize=14)\n",
    "    ax.set_title(\"PC plane with original feature projections.\", fontsize=16);\n",
    "    return ax\n",
    "\n"
   ]
  },
  {
   "cell_type": "code",
   "execution_count": 45,
   "metadata": {},
   "outputs": [
    {
     "data": {
      "image/png": "[encoded data removed]",
      "text/plain": [
       "<matplotlib.figure.Figure at 0x1a1e9bc438>"
      ]
     },
     "metadata": {},
     "output_type": "display_data"
    }
   ],
   "source": [
    "biplot(data, reduced_data, pca)\n",
    "plt.show()"
   ]
  },
  {
   "cell_type": "markdown",
   "metadata": {},
   "source": [
    "### Sélection\n",
    "\n",
    "On va utiliser les différents critères pour sélectionner les influenceurs les plus intéressants."
   ]
  },
  {
   "cell_type": "markdown",
   "metadata": {},
   "source": [
    "#### Statistiques descriptives"
   ]
  },
  {
   "cell_type": "markdown",
   "metadata": {},
   "source": [
    "Dans un premier temps, on présente quelques statistiques pour chacune de nos variables"
   ]
  },
  {
   "cell_type": "code",
   "execution_count": 3,
   "metadata": {
    "collapsed": true
   },
   "outputs": [],
   "source": [
    "from scipy import stats\n",
    "import statistics as stat\n",
    "\n",
    "def summary_statistics(table_values):\n",
    "    \n",
    "    values=list(table_values)\n",
    "    \n",
    "    #Min, max\n",
    "    \n",
    "    minimum=min(values)\n",
    "    maximum=max(values)\n",
    "    \n",
    "    #Moyenne\n",
    "    \n",
    "    moyenne=stat.mean(values)\n",
    "    \n",
    "    #écart type\n",
    "    \n",
    "    sdev = stat.stdev(values)\n",
    "    \n",
    "    #Médiane et quantiles\n",
    "    \n",
    "    mediane=stat.median(values)\n",
    "    \n",
    "    output = [stats.scoreatpercentile(values, i) for i in [25,75,90,99]]\n",
    "    output.append(minimum)\n",
    "    output.append(maximum)\n",
    "    output.append(moyenne)\n",
    "    output.append(mediane)\n",
    "    output.append(sdev)\n",
    "    \n",
    "    return output"
   ]
  },
  {
   "cell_type": "code",
   "execution_count": 7,
   "metadata": {},
   "outputs": [
    {
     "data": {
      "text/html": [
       "<div>\n",
       "<style scoped>\n",
       "    .dataframe tbody tr th:only-of-type {\n",
       "        vertical-align: middle;\n",
       "    }\n",
       "\n",
       "    .dataframe tbody tr th {\n",
       "        vertical-align: top;\n",
       "    }\n",
       "\n",
       "    .dataframe thead th {\n",
       "        text-align: right;\n",
       "    }\n",
       "</style>\n",
       "<table border=\"1\" class=\"dataframe\">\n",
       "  <thead>\n",
       "    <tr style=\"text-align: right;\">\n",
       "      <th></th>\n",
       "      <th>mesure</th>\n",
       "      <th>1er quartile</th>\n",
       "      <th>mediane</th>\n",
       "      <th>3e quartile</th>\n",
       "      <th>90e percentile</th>\n",
       "      <th>99e percentile</th>\n",
       "      <th>maximum</th>\n",
       "      <th>moyenne</th>\n",
       "      <th>st_dev</th>\n",
       "    </tr>\n",
       "  </thead>\n",
       "  <tbody>\n",
       "    <tr>\n",
       "      <th>0</th>\n",
       "      <td>eigen_centrality</td>\n",
       "      <td>0.000000</td>\n",
       "      <td>0.010968</td>\n",
       "      <td>0.018997</td>\n",
       "      <td>0.029965</td>\n",
       "      <td>0.047886</td>\n",
       "      <td>0.068994</td>\n",
       "      <td>0.010253</td>\n",
       "      <td>0.012775</td>\n",
       "    </tr>\n",
       "    <tr>\n",
       "      <th>1</th>\n",
       "      <td>page_centrality</td>\n",
       "      <td>0.000000</td>\n",
       "      <td>0.000006</td>\n",
       "      <td>0.000006</td>\n",
       "      <td>0.000006</td>\n",
       "      <td>0.000009</td>\n",
       "      <td>0.000063</td>\n",
       "      <td>0.000004</td>\n",
       "      <td>0.000003</td>\n",
       "    </tr>\n",
       "    <tr>\n",
       "      <th>2</th>\n",
       "      <td>engagement_comments</td>\n",
       "      <td>0.000595</td>\n",
       "      <td>0.001919</td>\n",
       "      <td>0.006717</td>\n",
       "      <td>0.017683</td>\n",
       "      <td>0.071836</td>\n",
       "      <td>0.290050</td>\n",
       "      <td>0.006944</td>\n",
       "      <td>0.015508</td>\n",
       "    </tr>\n",
       "    <tr>\n",
       "      <th>3</th>\n",
       "      <td>engagement_likes</td>\n",
       "      <td>0.034826</td>\n",
       "      <td>0.109084</td>\n",
       "      <td>0.311575</td>\n",
       "      <td>1.160724</td>\n",
       "      <td>585.216861</td>\n",
       "      <td>5287.895138</td>\n",
       "      <td>25.127064</td>\n",
       "      <td>232.404049</td>\n",
       "    </tr>\n",
       "    <tr>\n",
       "      <th>4</th>\n",
       "      <td>authenticity</td>\n",
       "      <td>0.543247</td>\n",
       "      <td>0.624137</td>\n",
       "      <td>0.677798</td>\n",
       "      <td>0.710895</td>\n",
       "      <td>0.798827</td>\n",
       "      <td>1.000000</td>\n",
       "      <td>0.589228</td>\n",
       "      <td>0.137453</td>\n",
       "    </tr>\n",
       "    <tr>\n",
       "      <th>5</th>\n",
       "      <td>interaction</td>\n",
       "      <td>0.012328</td>\n",
       "      <td>0.024440</td>\n",
       "      <td>0.046503</td>\n",
       "      <td>0.080886</td>\n",
       "      <td>0.235517</td>\n",
       "      <td>0.394972</td>\n",
       "      <td>0.037451</td>\n",
       "      <td>0.042252</td>\n",
       "    </tr>\n",
       "  </tbody>\n",
       "</table>\n",
       "</div>"
      ],
      "text/plain": [
       "                mesure  1er quartile   mediane  3e quartile  90e percentile  \\\n",
       "0     eigen_centrality      0.000000  0.010968     0.018997        0.029965   \n",
       "1      page_centrality      0.000000  0.000006     0.000006        0.000006   \n",
       "2  engagement_comments      0.000595  0.001919     0.006717        0.017683   \n",
       "3     engagement_likes      0.034826  0.109084     0.311575        1.160724   \n",
       "4         authenticity      0.543247  0.624137     0.677798        0.710895   \n",
       "5          interaction      0.012328  0.024440     0.046503        0.080886   \n",
       "\n",
       "   99e percentile      maximum    moyenne      st_dev  \n",
       "0        0.047886     0.068994   0.010253    0.012775  \n",
       "1        0.000009     0.000063   0.000004    0.000003  \n",
       "2        0.071836     0.290050   0.006944    0.015508  \n",
       "3      585.216861  5287.895138  25.127064  232.404049  \n",
       "4        0.798827     1.000000   0.589228    0.137453  \n",
       "5        0.235517     0.394972   0.037451    0.042252  "
      ]
     },
     "execution_count": 7,
     "metadata": {},
     "output_type": "execute_result"
    }
   ],
   "source": [
    "quartile=[]\n",
    "thridquart=[]\n",
    "nineth=[]\n",
    "ninetynieth=[]\n",
    "minimum=[]\n",
    "maximum=[]\n",
    "moyenne=[]\n",
    "mediane=[]\n",
    "sdev=[]\n",
    "variable=[]\n",
    "\n",
    "for metric in list(metrics.columns[1:]):\n",
    "    \n",
    "    variable.append(metric)\n",
    "    quartile.append(summary_statistics(metrics[metric])[0])\n",
    "    thridquart.append(summary_statistics(metrics[metric])[1])\n",
    "    nineth.append(summary_statistics(metrics[metric])[2])\n",
    "    ninetynieth.append(summary_statistics(metrics[metric])[3])\n",
    "    minimum.append(summary_statistics(metrics[metric])[4])\n",
    "    maximum.append(summary_statistics(metrics[metric])[5])\n",
    "    moyenne.append(summary_statistics(metrics[metric])[6])\n",
    "    mediane.append(summary_statistics(metrics[metric])[7])\n",
    "    sdev.append(summary_statistics(metrics[metric])[8])\n",
    "    \n",
    "    \n",
    "    \n",
    "statistics=pd.DataFrame()\n",
    "statistics['mesure']=variable\n",
    "statistics['1er quartile']=quartile\n",
    "statistics['mediane']=mediane\n",
    "statistics['3e quartile']=thridquart\n",
    "statistics['90e percentile']=nineth\n",
    "statistics['99e percentile']=ninetynieth\n",
    "statistics['maximum']=maximum\n",
    "statistics['moyenne']=moyenne\n",
    "statistics['st_dev']=sdev\n",
    "\n",
    "statistics.to_csv(\"summary_metrics.csv\",header=True)\n",
    "\n",
    "statistics"
   ]
  },
  {
   "cell_type": "markdown",
   "metadata": {},
   "source": [
    "On élimine les comptes qui sont en dessous de la médiane dans l'un des critères au moins (hormis les critères de centralité). On sélectionne ensuite les comptes de manière plus parcimonieuse"
   ]
  },
  {
   "cell_type": "code",
   "execution_count": 198,
   "metadata": {},
   "outputs": [
    {
     "data": {
      "text/plain": [
       "(196, 1948)"
      ]
     },
     "execution_count": 198,
     "metadata": {},
     "output_type": "execute_result"
    }
   ],
   "source": [
    "# Lemon dropping : on supprime les comptes qui ont une faiblesse rédhibitoire dans l'une au moins des dimensions\n",
    "\n",
    "# Définir les quantités\n",
    "\n",
    "med_end_com=statistics[\"mediane\"][2]\n",
    "med_eng_likes=statistics[\"mediane\"][3]\n",
    "med_auth=statistics[\"mediane\"][4]\n",
    "med_inter=statistics[\"mediane\"][5]\n",
    "\n",
    "#Liste à évaluer\n",
    "\n",
    "evaluation_list=[]\n",
    "\n",
    "for usr in users:\n",
    "\n",
    "    if (engagement_ratio[usr][0]<med_end_com)==True:\n",
    "        evaluation_list.append(usr)\n",
    "    elif (engagement_ratio[usr][1]<med_eng_likes)==True:\n",
    "        evaluation_list.append(usr)\n",
    "    elif (authenticity_score[usr]<med_auth)==True:\n",
    "        evaluation_list.append(usr)\n",
    "    elif (interaction_score[usr]<med_inter)==True:\n",
    "        evaluation_list.append(usr)\n",
    "\n",
    "evaluation_list=list(dict.fromkeys(evaluation_list))\n",
    "\n",
    "short_list0=[usr for usr in users if usr not in evaluation_list]\n",
    "len(short_list0),len(users)"
   ]
  },
  {
   "cell_type": "code",
   "execution_count": 199,
   "metadata": {},
   "outputs": [
    {
     "data": {
      "text/plain": [
       "(74, 1948)"
      ]
     },
     "execution_count": 199,
     "metadata": {},
     "output_type": "execute_result"
    }
   ],
   "source": [
    "#Cherry picking : on veut des comptes qui performent dans l'une au moins des dimensions\n",
    "\n",
    "# Définir les quantités\n",
    "\n",
    "max_end_com=statistics['90e percentile'][2]\n",
    "max_eng_likes=statistics['90e percentile'][3]\n",
    "max_auth=statistics['99e percentile'][4]\n",
    "max_inter=statistics[\"99e percentile\"][5]\n",
    "\n",
    "#Liste à évaluer\n",
    "\n",
    "candidates=[usr for usr in short_list0]\n",
    "evaluation_list=[]\n",
    "\n",
    "for usr in candidates:\n",
    "\n",
    "    if (engagement_ratio[usr][0]>max_end_com)==True:\n",
    "        evaluation_list.append(usr)\n",
    "    elif (engagement_ratio[usr][1]>max_eng_likes)==True:\n",
    "        evaluation_list.append(usr)\n",
    "    elif (authenticity_score[usr]>max_auth)==True:\n",
    "        evaluation_list.append(usr)\n",
    "    elif (interaction_score[usr]>max_inter)==True:\n",
    "        evaluation_list.append(usr)\n",
    "        \n",
    "evaluation_list=list(dict.fromkeys(evaluation_list))\n",
    "\n",
    "short_list=[usr for usr in users if usr in evaluation_list]\n",
    "len(short_list),len(users)"
   ]
  },
  {
   "cell_type": "code",
   "execution_count": 200,
   "metadata": {},
   "outputs": [
    {
     "data": {
      "text/plain": [
       "['gaspajoe',\n",
       " 'olly_lingerie',\n",
       " 'naturellementgreen',\n",
       " 'mllealyb',\n",
       " 'happy_family_rossi',\n",
       " 'lalottes',\n",
       " 'ninaturelle',\n",
       " 'blackwhite_loving',\n",
       " 'angelique_glamconscious',\n",
       " 'labauhinia',\n",
       " 'gardetesconseils',\n",
       " 'valentine_caporale',\n",
       " 'soniaselaire',\n",
       " 'bio.ralie',\n",
       " 'fiona_imeneo',\n",
       " 'janemichel_',\n",
       " 'chaudronpastel',\n",
       " 'harmonylu_',\n",
       " 'bordel.de.meres',\n",
       " 'sweet_celiine',\n",
       " 'poussepousseoff',\n",
       " 'lescookines',\n",
       " 'mafrenchbox',\n",
       " 'mademoisellelit',\n",
       " 'taspensea',\n",
       " 'madame.zero',\n",
       " 'lecorpslamaisonlesprit',\n",
       " 'dearlobbies',\n",
       " 'agathe.the.book',\n",
       " 'healthy.stud',\n",
       " 'parentsprofs',\n",
       " 'phrasesassassines',\n",
       " 'melogommette',\n",
       " 'melanie.leculdepoule',\n",
       " 'b_belly18',\n",
       " 'asundaymorningperrine',\n",
       " 'atelierdetendances',\n",
       " 'mariesavartillustrations',\n",
       " 'touchworkout',\n",
       " 'sodeco_off',\n",
       " 'lesfrancaissontgates',\n",
       " 'lilisohn',\n",
       " 'daisy.dessine',\n",
       " 'unesourisetdeslivres',\n",
       " 'aromatips.be',\n",
       " 'lulumineuse_belight',\n",
       " 'la_pagaille_de_lulu_',\n",
       " 'thedailyparis',\n",
       " '0paline',\n",
       " 'sndfilms',\n",
       " 'blogdechataigne',\n",
       " 'chooavignon',\n",
       " 'healthycooklife',\n",
       " 'anna_you_and_me',\n",
       " 'de_fil_en_pierres',\n",
       " 'extinctionrebellionfrance',\n",
       " 'clara.rocchia',\n",
       " 'steph_croqueuse_de_livres_',\n",
       " 'garceauxfraises',\n",
       " 'theo.grosjean',\n",
       " 'hello.blush',\n",
       " 'byopaline',\n",
       " 'nippleresolution',\n",
       " 'loptimisme_officiel',\n",
       " 'delphinelastucieuse',\n",
       " 'youronlinefrenchteacher',\n",
       " 'mordue_de_lectures',\n",
       " 'markal_bio',\n",
       " 'aquarelle_fleurs',\n",
       " 'edisaccom',\n",
       " 'la_famille_hiboux',\n",
       " 'doufiz',\n",
       " 'quandjuliepatisse',\n",
       " 'lameringaie']"
      ]
     },
     "execution_count": 200,
     "metadata": {},
     "output_type": "execute_result"
    }
   ],
   "source": [
    "short_list"
   ]
  },
  {
   "cell_type": "code",
   "execution_count": 202,
   "metadata": {
    "collapsed": true
   },
   "outputs": [],
   "source": [
    "m = open('shortlist_influenceurs.txt','w')\n",
    "\n",
    "for usr in short_list:\n",
    "    m.write(str(usr)+'\\t')"
   ]
  },
  {
   "cell_type": "markdown",
   "metadata": {},
   "source": [
    "Utilisateurs intéressants : friendly_beauty, healthylifemary, chloeandyou, naturellementgreen, pretemoitaveste, mathilde_mu,paulineajung labelleboucle, marieandmood, tribulationsdanais, thebabooshka"
   ]
  },
  {
   "cell_type": "code",
   "execution_count": null,
   "metadata": {
    "collapsed": true
   },
   "outputs": [],
   "source": []
  }
 ],
 "metadata": {
  "kernelspec": {
   "display_name": "Python 3",
   "language": "python",
   "name": "python3"
  },
  "language_info": {
   "codemirror_mode": {
    "name": "ipython",
    "version": 3
   },
   "file_extension": ".py",
   "mimetype": "text/x-python",
   "name": "python",
   "nbconvert_exporter": "python",
   "pygments_lexer": "ipython3",
   "version": "3.6.7"
  }
 },
 "nbformat": 4,
 "nbformat_minor": 2
}
