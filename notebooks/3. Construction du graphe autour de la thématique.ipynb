{
 "cells": [
  {
   "cell_type": "markdown",
   "metadata": {},
   "source": [
    "# 3. Construction du graphe"
   ]
  },
  {
   "cell_type": "code",
   "execution_count": 8,
   "metadata": {},
   "outputs": [
    {
     "data": {
      "text/html": [
       "<div id=\"my_id_menu_nb\">run previous cell, wait for 2 seconds</div>\n",
       "<script>\n",
       "function repeat_indent_string(n){\n",
       "    var a = \"\" ;\n",
       "    for ( ; n > 0 ; --n)\n",
       "        a += \"    \";\n",
       "    return a;\n",
       "}\n",
       "// look up into all sections and builds an automated menu //\n",
       "var update_menu_string = function(begin, lfirst, llast, sformat, send, keep_item, begin_format, end_format) {\n",
       "    var anchors = document.getElementsByClassName(\"section\");\n",
       "    if (anchors.length == 0) {\n",
       "        anchors = document.getElementsByClassName(\"text_cell_render rendered_html\");\n",
       "    }\n",
       "    var i,t;\n",
       "    var text_menu = begin;\n",
       "    var text_memo = \"<pre>\\nlength:\" + anchors.length + \"\\n\";\n",
       "    var ind = \"\";\n",
       "    var memo_level = 1;\n",
       "    var href;\n",
       "    var tags = [];\n",
       "    var main_item = 0;\n",
       "    var format_open = 0;\n",
       "    for (i = 0; i <= llast; i++)\n",
       "        tags.push(\"h\" + i);\n",
       "\n",
       "    for (i = 0; i < anchors.length; i++) {\n",
       "        text_memo += \"**\" + anchors[i].id + \"--\\n\";\n",
       "\n",
       "        var child = null;\n",
       "        for(t = 0; t < tags.length; t++) {\n",
       "            var r = anchors[i].getElementsByTagName(tags[t]);\n",
       "            if (r.length > 0) {\n",
       "child = r[0];\n",
       "break;\n",
       "            }\n",
       "        }\n",
       "        if (child == null) {\n",
       "            text_memo += \"null\\n\";\n",
       "            continue;\n",
       "        }\n",
       "        if (anchors[i].hasAttribute(\"id\")) {\n",
       "            // when converted in RST\n",
       "            href = anchors[i].id;\n",
       "            text_memo += \"#1-\" + href;\n",
       "            // passer à child suivant (le chercher)\n",
       "        }\n",
       "        else if (child.hasAttribute(\"id\")) {\n",
       "            // in a notebook\n",
       "            href = child.id;\n",
       "            text_memo += \"#2-\" + href;\n",
       "        }\n",
       "        else {\n",
       "            text_memo += \"#3-\" + \"*\" + \"\\n\";\n",
       "            continue;\n",
       "        }\n",
       "        var title = child.textContent;\n",
       "        var level = parseInt(child.tagName.substring(1,2));\n",
       "\n",
       "        text_memo += \"--\" + level + \"?\" + lfirst + \"--\" + title + \"\\n\";\n",
       "\n",
       "        if ((level < lfirst) || (level > llast)) {\n",
       "            continue ;\n",
       "        }\n",
       "        if (title.endsWith('¶')) {\n",
       "            title = title.substring(0,title.length-1).replace(\"<\", \"&lt;\")\n",
       "         .replace(\">\", \"&gt;\").replace(\"&\", \"&amp;\");\n",
       "        }\n",
       "        if (title.length == 0) {\n",
       "            continue;\n",
       "        }\n",
       "\n",
       "        while (level < memo_level) {\n",
       "            text_menu += end_format + \"</ul>\\n\";\n",
       "            format_open -= 1;\n",
       "            memo_level -= 1;\n",
       "        }\n",
       "        if (level == lfirst) {\n",
       "            main_item += 1;\n",
       "        }\n",
       "        if (keep_item != -1 && main_item != keep_item + 1) {\n",
       "            // alert(main_item + \" - \" + level + \" - \" + keep_item);\n",
       "            continue;\n",
       "        }\n",
       "        while (level > memo_level) {\n",
       "            text_menu += \"<ul>\\n\";\n",
       "            memo_level += 1;\n",
       "        }\n",
       "        text_menu += repeat_indent_string(level-2);\n",
       "        text_menu += begin_format + sformat.replace(\"__HREF__\", href).replace(\"__TITLE__\", title);\n",
       "        format_open += 1;\n",
       "    }\n",
       "    while (1 < memo_level) {\n",
       "        text_menu += end_format + \"</ul>\\n\";\n",
       "        memo_level -= 1;\n",
       "        format_open -= 1;\n",
       "    }\n",
       "    text_menu += send;\n",
       "    //text_menu += \"\\n\" + text_memo;\n",
       "\n",
       "    while (format_open > 0) {\n",
       "        text_menu += end_format;\n",
       "        format_open -= 1;\n",
       "    }\n",
       "    return text_menu;\n",
       "};\n",
       "var update_menu = function() {\n",
       "    var sbegin = \"\";\n",
       "    var sformat = '<a href=\"#__HREF__\">__TITLE__</a>';\n",
       "    var send = \"\";\n",
       "    var begin_format = '<li>';\n",
       "    var end_format = '</li>';\n",
       "    var keep_item = -1;\n",
       "    var text_menu = update_menu_string(sbegin, 2, 4, sformat, send, keep_item,\n",
       "       begin_format, end_format);\n",
       "    var menu = document.getElementById(\"my_id_menu_nb\");\n",
       "    menu.innerHTML=text_menu;\n",
       "};\n",
       "window.setTimeout(update_menu,2000);\n",
       "            </script>"
      ],
      "text/plain": [
       "<IPython.core.display.HTML object>"
      ]
     },
     "execution_count": 8,
     "metadata": {},
     "output_type": "execute_result"
    }
   ],
   "source": [
    "from jyquickhelper import add_notebook_menu\n",
    "add_notebook_menu()"
   ]
  },
  {
   "cell_type": "markdown",
   "metadata": {},
   "source": [
    "## Récupérer le fichier des utilisateurs"
   ]
  },
  {
   "cell_type": "markdown",
   "metadata": {},
   "source": [
    "Le code exécuté dans le graphe précédent a permis de générer trois fichiers. On a rassemblé manuellement ces trois fichiers pour créer un nouveau fichier concaténé à partir duquel on génère le graphe qui sert de base à l'analyse. "
   ]
  },
  {
   "cell_type": "code",
   "execution_count": 9,
   "metadata": {
    "collapsed": true
   },
   "outputs": [],
   "source": [
    "f = open(\"followers_list_complet.txt\", 'r')    #Fichier assemblé manuellement\n",
    "following_dictionnary = {}\n",
    "for line in f:\n",
    "    rows=line.split('\\t')\n",
    "    rows=rows[:-1]\n",
    "    following_dictionnary[rows[0]]=[r for r in rows[1:]]\n",
    "\n",
    "f.close()"
   ]
  },
  {
   "cell_type": "markdown",
   "metadata": {},
   "source": [
    "## Construction du graphe"
   ]
  },
  {
   "cell_type": "markdown",
   "metadata": {},
   "source": [
    "#### Création du graphe"
   ]
  },
  {
   "cell_type": "code",
   "execution_count": 10,
   "metadata": {
    "collapsed": true
   },
   "outputs": [],
   "source": [
    "#Générer les arêtes\n",
    "\n",
    "def generate_edges(graph):\n",
    "    edges = []\n",
    "\n",
    "    # for each node in graph\n",
    "    for node in graph:\n",
    "\n",
    "        # for each neighbour node of a single node\n",
    "        for neighbour in graph[node]:\n",
    "            # if edge exists then append\n",
    "            edges.append((node, neighbour))\n",
    "    return edges"
   ]
  },
  {
   "cell_type": "code",
   "execution_count": 11,
   "metadata": {
    "collapsed": true
   },
   "outputs": [],
   "source": [
    "#Créer la liste des arêtes\n",
    "list_edges=generate_edges(following_dictionnary)"
   ]
  },
  {
   "cell_type": "code",
   "execution_count": 12,
   "metadata": {
    "collapsed": true
   },
   "outputs": [],
   "source": [
    "#Isoler les noeuds du graphe\n",
    "head=list(following_dictionnary.keys())\n",
    "\n",
    "nodes=[]\n",
    "\n",
    "for key in following_dictionnary.keys():\n",
    "    for item in range(len(following_dictionnary[key])):\n",
    "        nodes.append(following_dictionnary[key][item])\n",
    "        \n",
    "for k in range(len(head)):\n",
    "    nodes.append(head[k])\n",
    "\n",
    "nodes = list(dict.fromkeys(nodes))\n",
    "nodes.remove(nodes[nodes.index('')])"
   ]
  },
  {
   "cell_type": "code",
   "execution_count": 13,
   "metadata": {},
   "outputs": [
    {
     "data": {
      "text/plain": [
       "270105"
      ]
     },
     "execution_count": 13,
     "metadata": {},
     "output_type": "execute_result"
    }
   ],
   "source": [
    "len(nodes)\n",
    "len(list_edges)"
   ]
  },
  {
   "cell_type": "code",
   "execution_count": 14,
   "metadata": {
    "collapsed": true
   },
   "outputs": [],
   "source": [
    "import networkx as nx\n",
    "import matplotlib.pyplot as plt\n",
    "\n",
    "g = nx.DiGraph()\n",
    "g.add_nodes_from(nodes)\n",
    "g.add_edges_from(list_edges)"
   ]
  },
  {
   "cell_type": "markdown",
   "metadata": {},
   "source": [
    "#### Visualisation du graphe"
   ]
  },
  {
   "cell_type": "markdown",
   "metadata": {},
   "source": [
    "<b> PARTIE A COMPLETER </b>"
   ]
  },
  {
   "cell_type": "markdown",
   "metadata": {},
   "source": [
    "On propose dans cette section quelques représentations du graphe."
   ]
  },
  {
   "cell_type": "code",
   "execution_count": 15,
   "metadata": {
    "collapsed": true
   },
   "outputs": [],
   "source": [
    "small_nodes=nodes[:10]   #Pire moyen de sélectionner les noeuds. Prendre ceux autour d'un influenceur au moins\n",
    "sub_g = g.subgraph(small_nodes)"
   ]
  },
  {
   "cell_type": "code",
   "execution_count": 16,
   "metadata": {},
   "outputs": [
    {
     "data": {
      "image/png": "[encoded data removed]",
      "text/plain": [
       "<matplotlib.figure.Figure at 0x104182b00>"
      ]
     },
     "metadata": {},
     "output_type": "display_data"
    }
   ],
   "source": [
    "graph_pos = nx.random_layout(sub_g)   #Essayer jusqu'à avoir un truc joli. \n",
    "nx.draw(sub_g,graph_pos,with_labels=True)\n",
    "\n",
    "plt.draw()\n",
    "plt.show()"
   ]
  },
  {
   "cell_type": "markdown",
   "metadata": {},
   "source": [
    "## Statistiques descriptives"
   ]
  },
  {
   "cell_type": "markdown",
   "metadata": {},
   "source": [
    "On présente dans cette section quelques statistiques descriptives concernant notre graphe."
   ]
  },
  {
   "cell_type": "markdown",
   "metadata": {},
   "source": [
    "Densité (pour un graphe orienté) : $d = \\frac{m}{n(n-1)},$\n",
    "where $n$ is the number of nodes and $m$ is the number of edges in $G$."
   ]
  },
  {
   "cell_type": "code",
   "execution_count": 17,
   "metadata": {},
   "outputs": [
    {
     "data": {
      "text/plain": [
       "8.056631189385391e-06"
      ]
     },
     "execution_count": 17,
     "metadata": {},
     "output_type": "execute_result"
    }
   ],
   "source": [
    "nx.density(g)"
   ]
  },
  {
   "cell_type": "code",
   "execution_count": 18,
   "metadata": {},
   "outputs": [
    {
     "data": {
      "image/png": "[encoded data removed]",
      "text/plain": [
       "<matplotlib.figure.Figure at 0x10c0a7630>"
      ]
     },
     "metadata": {},
     "output_type": "display_data"
    }
   ],
   "source": [
    "from scipy import stats\n",
    "import numpy as np\n",
    "\n",
    "# Graphe avec l'histogramme des degrés et les degrés cumulés\n",
    "\n",
    "samples=list(dict(nx.degree(g)).values())   #Valeurs\n",
    "x=[k for k in range(max(samples))]    #Support\n",
    "res = stats.cumfreq(samples, numbins=max(samples))   #Fréquences cumulées\n",
    "x = res.lowerlimit + np.linspace(0, res.binsize*res.cumcount.size,res.cumcount.size)\n",
    "\n",
    "fig = plt.figure(figsize=(15, 7))\n",
    "ax1 = fig.add_subplot(1, 2, 1)\n",
    "ax2 = fig.add_subplot(1, 2, 2)\n",
    "ax1.hist(samples, bins=max(samples))\n",
    "ax1.set_title('Histogram')\n",
    "ax2.bar(x, res.cumcount, width=res.binsize)\n",
    "ax2.set_title('Cumulative histogram')\n",
    "ax2.set_xlim([x.min(), x.max()])\n",
    "\n",
    "plt.show()"
   ]
  },
  {
   "cell_type": "markdown",
   "metadata": {},
   "source": [
    "On remarque que la grande majorité des noeuds ont un degré faible. C'est cohérent avec la faible densité du graphe. "
   ]
  },
  {
   "cell_type": "code",
   "execution_count": 20,
   "metadata": {},
   "outputs": [
    {
     "name": "stdout",
     "output_type": "stream",
     "text": [
      "Moyenne\n",
      "2.9503222282905517\n",
      "Std dev\n",
      "27.132332852945154\n",
      "Médiane\n",
      "1.0\n",
      "1481\n",
      "Quantiles\n",
      "75th centile :  1.0\n",
      "90th centile :  2.0\n",
      "90 th centile :  2.0\n",
      "91 th centile :  2.0\n",
      "92 th centile :  2.0\n",
      "93 th centile :  3.0\n",
      "94 th centile :  3.0\n",
      "95 th centile :  4.0\n",
      "96 th centile :  4.0\n",
      "97 th centile :  6.0\n",
      "98 th centile :  9.0\n",
      "99 th centile :  18.0\n"
     ]
    }
   ],
   "source": [
    "from scipy import stats\n",
    "import statistics as stat\n",
    "\n",
    "print('Moyenne')\n",
    "print(stat.mean(samples))\n",
    "print('Std dev')\n",
    "print(stat.stdev(samples))\n",
    "print('Médiane')\n",
    "print(stat.median(samples))\n",
    "\n",
    "print(max(samples))\n",
    "\n",
    "\n",
    "print('Quantiles')\n",
    "\n",
    "print('75th centile : ',stats.scoreatpercentile(samples, 75))\n",
    "print('90th centile : ',stats.scoreatpercentile(samples, 90))\n",
    "\n",
    "for i in range(90,100):\n",
    "    print(i,'th centile : ',stats.scoreatpercentile(samples, i))\n",
    "\n"
   ]
  },
  {
   "cell_type": "markdown",
   "metadata": {},
   "source": [
    "La concentration se confirme lorsqu'on regarde les quantiles. Le 99e centile est par exemple 18."
   ]
  },
  {
   "cell_type": "code",
   "execution_count": 13,
   "metadata": {
    "collapsed": true
   },
   "outputs": [],
   "source": [
    "degrees=dict(nx.degree(g))"
   ]
  },
  {
   "cell_type": "code",
   "execution_count": 14,
   "metadata": {},
   "outputs": [
    {
     "data": {
      "text/plain": [
       "1846"
      ]
     },
     "execution_count": 14,
     "metadata": {},
     "output_type": "execute_result"
    }
   ],
   "source": [
    "last_centile={}\n",
    "\n",
    "pct99=stats.scoreatpercentile(samples, 99)\n",
    "\n",
    "for user in list(degrees.keys()):\n",
    "    if degrees[user]>=pct99 :\n",
    "        last_centile[user] = degrees[user]\n",
    "        \n",
    "len(list(last_centile))   #Pour se donner un critère de sélection avec les mesures de centralité"
   ]
  },
  {
   "cell_type": "markdown",
   "metadata": {},
   "source": [
    "## Sélection des points centraux du graphe"
   ]
  },
  {
   "cell_type": "markdown",
   "metadata": {},
   "source": [
    "### Construction des indicateurs "
   ]
  },
  {
   "cell_type": "markdown",
   "metadata": {},
   "source": [
    "A partir du graphe que nous avons généré, nous allons chercher à isoler les points centraux. On utilise deux critères, le Page Rank et la centralité de vecteur propre. Pour une présentation plus détaillée, voir le document rendu."
   ]
  },
  {
   "cell_type": "code",
   "execution_count": 15,
   "metadata": {
    "collapsed": true
   },
   "outputs": [],
   "source": [
    "eigenvec_centrality=nx.eigenvector_centrality(g, max_iter=1000)"
   ]
  },
  {
   "cell_type": "code",
   "execution_count": 16,
   "metadata": {
    "collapsed": true
   },
   "outputs": [],
   "source": [
    "page_rank=nx.pagerank(g, alpha=.9)"
   ]
  },
  {
   "cell_type": "code",
   "execution_count": 17,
   "metadata": {
    "collapsed": true
   },
   "outputs": [],
   "source": [
    "del eigenvec_centrality['']\n",
    "del page_rank['']"
   ]
  },
  {
   "cell_type": "code",
   "execution_count": 18,
   "metadata": {},
   "outputs": [
    {
     "name": "stdout",
     "output_type": "stream",
     "text": [
      "(0.06899352762452783, 'bestofvanity')\n",
      "(6.325152225142031e-05, 'coline')\n"
     ]
    }
   ],
   "source": [
    "# apparté : on regarde quel est le point le plus influent du graphe selon les critères\n",
    "# on retrouve sans surprise le compte à partir duquel on a généré la liste d'utilisateurs à scrapper\n",
    "\n",
    "print(max(zip(eigenvec_centrality.values(),eigenvec_centrality.keys())))\n",
    "print(max(zip(page_rank.values(),page_rank.keys())) )"
   ]
  },
  {
   "cell_type": "code",
   "execution_count": 19,
   "metadata": {
    "collapsed": true
   },
   "outputs": [],
   "source": [
    "from heapq import nlargest\n",
    "\n",
    "# On récupère l'équivalent du dernier centile le plus influent (facilite les comparaisons)\n",
    "\n",
    "largest = nlargest(len(list(last_centile)), eigenvec_centrality, key=eigenvec_centrality.__getitem__)  \n",
    "dict_largest={item :eigenvec_centrality[item] for item in largest}\n",
    "\n",
    "largest2 = nlargest(len(list(last_centile)), page_rank, key=page_rank.__getitem__)  \n",
    "dict_largest2={item :page_rank[item] for item in largest2}"
   ]
  },
  {
   "cell_type": "code",
   "execution_count": 20,
   "metadata": {},
   "outputs": [
    {
     "data": {
      "text/plain": [
       "[0.11213434452871072, 0.356988082340195]"
      ]
     },
     "execution_count": 20,
     "metadata": {},
     "output_type": "execute_result"
    }
   ],
   "source": [
    "# Comparer avec le dernier centile\n",
    "\n",
    "share_centile=[0,0]\n",
    "\n",
    "for (usr,usr2) in zip(largest,largest2):\n",
    "    \n",
    "    if usr in list(last_centile):\n",
    "        share_centile[0]+=1\n",
    "    if usr2 in list(last_centile):\n",
    "        share_centile[1]+=1\n",
    "\n",
    "share_centile=[shares/len(list(last_centile)) for shares in share_centile]\n",
    "        \n",
    "share_centile"
   ]
  },
  {
   "cell_type": "markdown",
   "metadata": {},
   "source": [
    "On remarque que la centralité de vecteur propre retient 11% du dernier centile, pour 35% pour le PageRank. Ce ne sont donc pas uniquement les plus \"gros\" comptes qui sont pris en compte. "
   ]
  },
  {
   "cell_type": "markdown",
   "metadata": {},
   "source": [
    "On va à présent supprimer des listes les utilisateurs populaires."
   ]
  },
  {
   "cell_type": "markdown",
   "metadata": {},
   "source": [
    "### Suppression des comptes populaires et description"
   ]
  },
  {
   "cell_type": "markdown",
   "metadata": {},
   "source": [
    "#### Suppression des comptes populaires"
   ]
  },
  {
   "cell_type": "markdown",
   "metadata": {},
   "source": [
    "Pour supprimer les comptes populaires, on récupère les 1000 comptes français et internationaux les plus influents selon hypeauditor. On les supprime de nos listes, car on considère que ces comptes ne sont pas spécifiquement populaires au sein de la communauté que l'on a ciblé. "
   ]
  },
  {
   "cell_type": "code",
   "execution_count": 21,
   "metadata": {},
   "outputs": [
    {
     "name": "stdout",
     "output_type": "stream",
     "text": [
      "done\r\n"
     ]
    },
    {
     "data": {
      "text/plain": [
       "2000"
      ]
     },
     "execution_count": 21,
     "metadata": {},
     "output_type": "execute_result"
    }
   ],
   "source": [
    "# Suppression des comptes de célébrités françaises et mondiales  \n",
    "# à partir des bases de données d'influenceurs les plus en vogue : 2 fois 1000 premiers comptes sur hypeauditor\n",
    "\n",
    "!python top_charts.py\n",
    "\n",
    "with open('charts.txt') as f:\n",
    "    init_file = list(f)\n",
    "init_file = init_file[0]\n",
    "celebs=init_file.split('\\t')\n",
    "celebs.remove(celebs[celebs.index('')])\n",
    "len(celebs)"
   ]
  },
  {
   "cell_type": "code",
   "execution_count": 22,
   "metadata": {
    "collapsed": true
   },
   "outputs": [],
   "source": [
    "eigen_final=largest\n",
    "page_final=largest2\n",
    "\n",
    "for cel in celebs:\n",
    "    \n",
    "    for (usr,usr2) in zip(largest,largest2):\n",
    "        if usr in cel:\n",
    "            eigen_final.remove(usr)\n",
    "        if usr2 in cel:\n",
    "            page_final.remove(usr2)"
   ]
  },
  {
   "cell_type": "code",
   "execution_count": 29,
   "metadata": {},
   "outputs": [
    {
     "data": {
      "text/plain": [
       "(1833, 1533)"
      ]
     },
     "execution_count": 29,
     "metadata": {},
     "output_type": "execute_result"
    }
   ],
   "source": [
    "influenceurs= ['coline','lilibarbery','deedeeparis','bestofvanity','mangoandsalt']\n",
    "for usr in influenceurs:\n",
    "    eigen_final.append(usr)\n",
    "    page_final.append(usr)\n",
    "    \n",
    "len(eigen_final), len(page_final)"
   ]
  },
  {
   "cell_type": "markdown",
   "metadata": {},
   "source": [
    "#### Prévisualisation : quelques statistiques descriptives sur les noeuds centraux"
   ]
  },
  {
   "cell_type": "code",
   "execution_count": 24,
   "metadata": {},
   "outputs": [
    {
     "data": {
      "text/plain": [
       "(10.201312910284464, 2.010940919037199)"
      ]
     },
     "execution_count": 24,
     "metadata": {},
     "output_type": "execute_result"
    }
   ],
   "source": [
    "#Brief summary among the key nodes of the graph (eigenvector centrality)\n",
    "\n",
    "avg_deg=0\n",
    "avg_nei=0\n",
    "\n",
    "\n",
    "for usr in eigen_final:\n",
    "    str_info=nx.info(g, usr) # pour avoir des infos et les synthétiser\n",
    "    info=str_info.split('\\n')\n",
    "\n",
    "    degree=info[1]\n",
    "    degree=degree[degree.index(':')+2:]\n",
    "\n",
    "    neighbors=info[2]\n",
    "    neighbors=neighbors[neighbors.index(':')+2:]\n",
    "\n",
    "    if len(degree)>0:\n",
    "        degree=int(degree)\n",
    "    else:\n",
    "        degree=0\n",
    "    \n",
    "    if len(neighbors)>0:\n",
    "        list_ne=neighbors.split(' ')\n",
    "        neighbors=int(len(list_ne))\n",
    "    else:\n",
    "        neighbors=0\n",
    "\n",
    "    avg_deg+=degree\n",
    "    avg_nei+=neighbors\n",
    "\n",
    "avg_deg=avg_deg/len(eigen_final)\n",
    "avg_nei=avg_nei/len(eigen_final)\n",
    "\n",
    "avg_deg, avg_nei "
   ]
  },
  {
   "cell_type": "code",
   "execution_count": 25,
   "metadata": {},
   "outputs": [
    {
     "data": {
      "text/plain": [
       "(14.767670157068062, 0.015706806282722512)"
      ]
     },
     "execution_count": 25,
     "metadata": {},
     "output_type": "execute_result"
    }
   ],
   "source": [
    "#Brief summary among the key nodes of the graph (page_rank centrality)\n",
    "\n",
    "avg_deg=0\n",
    "avg_nei=0\n",
    "\n",
    "\n",
    "for usr in page_final:\n",
    "    str_info=nx.info(g, usr) # pour avoir des infos et les synthétiser\n",
    "    info=str_info.split('\\n')\n",
    "\n",
    "    degree=info[1]\n",
    "    degree=degree[degree.index(':')+2:]\n",
    "\n",
    "    neighbors=info[2]\n",
    "    neighbors=neighbors[neighbors.index(':')+2:]\n",
    "\n",
    "    if len(degree)>0:\n",
    "        degree=int(degree)\n",
    "    else:\n",
    "        degree=0\n",
    "    \n",
    "    if len(neighbors)>0:\n",
    "        list_ne=neighbors.split(' ')\n",
    "        neighbors=int(len(list_ne))\n",
    "    else:\n",
    "        neighbors=0\n",
    "\n",
    "    avg_deg+=degree\n",
    "    avg_nei+=neighbors\n",
    "\n",
    "avg_deg=avg_deg/len(page_final)\n",
    "avg_nei=avg_nei/len(page_final)\n",
    "\n",
    "avg_deg, avg_nei"
   ]
  },
  {
   "cell_type": "markdown",
   "metadata": {},
   "source": [
    "## Exportation des données"
   ]
  },
  {
   "cell_type": "markdown",
   "metadata": {},
   "source": [
    "Au terme de ce notebook, nous somme parvenus à dégager une liste de points centraux susceptibles d'être des influenceurs intéressants pour notre problématique. On exporte ces données pour procéder à une analyse plus poussée de ces comptes dans le notebook suivant. "
   ]
  },
  {
   "cell_type": "code",
   "execution_count": 28,
   "metadata": {},
   "outputs": [
    {
     "data": {
      "text/plain": [
       "2839"
      ]
     },
     "execution_count": 28,
     "metadata": {},
     "output_type": "execute_result"
    }
   ],
   "source": [
    "#Liste avec les influenceurs (tous indices confondus)\n",
    "\n",
    "central_points=[]\n",
    "\n",
    "data_file = open('central_points.txt','w')\n",
    "\n",
    "for (usr,usr2) in zip(eigen_final,page_final):\n",
    "    central_points.append(usr)\n",
    "    central_points.append(usr2)\n",
    "\n",
    "central_points = list(dict.fromkeys(central_points))\n",
    "\n",
    "for usr in central_points:\n",
    "    data_file.write(str(usr)+'\\t')\n",
    "\n",
    "len(central_points)   #On a supprimé 400 comptes par rapport au contenu des deux listes largest/largest2 réunies"
   ]
  },
  {
   "cell_type": "code",
   "execution_count": 27,
   "metadata": {
    "collapsed": true
   },
   "outputs": [],
   "source": [
    "#Tableau contenant les eigenvector centrality et ou pagerank de tous les comptes isolés\n",
    "\n",
    "dict_centrality = {}\n",
    "\n",
    "\n",
    "for usr in central_points:\n",
    "    value=['','']\n",
    "    \n",
    "    if usr in list(dict_largest.keys()):   #Eigen\n",
    "        value[0]=dict_largest[usr]\n",
    "    if usr in list(dict_largest2.keys()):  #PageRank\n",
    "        value[1]=dict_largest2[usr]\n",
    "   \n",
    "    dict_centrality[usr] = value\n",
    "    \n",
    "with open('dict_centrality.txt', 'w') as fichier:\n",
    "    \n",
    "    for key, value in dict_centrality.items():\n",
    "        \n",
    "        fichier.write('%s:%s\\n' % (key, value))\n"
   ]
  },
  {
   "cell_type": "code",
   "execution_count": null,
   "metadata": {
    "collapsed": true
   },
   "outputs": [],
   "source": []
  }
 ],
 "metadata": {
  "kernelspec": {
   "display_name": "Python 3",
   "language": "python",
   "name": "python3"
  },
  "language_info": {
   "codemirror_mode": {
    "name": "ipython",
    "version": 3
   },
   "file_extension": ".py",
   "mimetype": "text/x-python",
   "name": "python",
   "nbconvert_exporter": "python",
   "pygments_lexer": "ipython3",
   "version": "3.6.7"
  }
 },
 "nbformat": 4,
 "nbformat_minor": 2
}
